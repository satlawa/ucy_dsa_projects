{
 "cells": [
  {
   "cell_type": "code",
   "execution_count": null,
   "metadata": {},
   "outputs": [],
   "source": []
  },
  {
   "cell_type": "markdown",
   "metadata": {},
   "source": [
    "## Finding the Square Root of an Integer\n",
    "\n",
    "Find the square root of the integer without using any Python library. You have to find the floor value of the square root.\n",
    "\n",
    "For example if the given number is 16, then the answer would be 4.\n",
    "\n",
    "If the given number is 27, the answer would be 5 because sqrt(5) = 5.196 whose floor value is 5.\n",
    "\n",
    "The expected time complexity is O(log(n))"
   ]
  },
  {
   "cell_type": "code",
   "execution_count": 25,
   "metadata": {},
   "outputs": [
    {
     "name": "stdout",
     "output_type": "stream",
     "text": [
      "1 3 5\n",
      "Pass\n",
      "Pass\n",
      "1 5 9\n",
      "1 2 4\n",
      "3 3 4\n",
      "4 4 4\n",
      "Pass\n",
      "Pass\n",
      "1 7 14\n",
      "1 3 6\n",
      "4 5 6\n",
      "6 6 6\n",
      "Pass\n"
     ]
    }
   ],
   "source": [
    "def sqrt(number):\n",
    "    \"\"\"\n",
    "    Calculate the floored square root of a number using the binary search algorithm\n",
    "\n",
    "    Args:\n",
    "       number(int): Number to find the floored squared root\n",
    "    Returns:\n",
    "       int: Floored Square Root\n",
    "    \"\"\"\n",
    "    if (number is None) or (number == 0) or (number == 1):\n",
    "        return number\n",
    "    \n",
    "    elif number < 0:\n",
    "        return None\n",
    "    \n",
    "    else:\n",
    "        # set lower and upper bound for searching\n",
    "        lower_bound = 1\n",
    "        upper_bound = number // 2 + 1\n",
    "    \n",
    "        #sqrt_int = upper_bound // 2\n",
    "        \n",
    "        while lower_bound <= upper_bound:\n",
    "            \n",
    "            mid_elem = (lower_bound + upper_bound)//2        # integer division in Python 3\n",
    "            \n",
    "            print(lower_bound, mid_elem, upper_bound)\n",
    "\n",
    "            est_number = mid_elem * mid_elem\n",
    "\n",
    "            if number == est_number:                       # we have found the element\n",
    "                return mid_elem\n",
    "\n",
    "            elif number < est_number:                      # the target is less than mid element\n",
    "                upper_bound = mid_elem - 1                   # we will only search in the left half\n",
    "\n",
    "            else:                                           # the target is greater than mid element\n",
    "                lower_bound = mid_elem + 1               # we will search only in the right half\n",
    "                sqrt_int = mid_elem\n",
    "\n",
    "    \n",
    "    return sqrt_int\n",
    "\n",
    "print (\"Pass\" if  (3 == sqrt(9)) else \"Fail\")\n",
    "print (\"Pass\" if  (0 == sqrt(0)) else \"Fail\")\n",
    "print (\"Pass\" if  (4 == sqrt(16)) else \"Fail\")\n",
    "print (\"Pass\" if  (1 == sqrt(1)) else \"Fail\")\n",
    "print (\"Pass\" if  (5 == sqrt(27)) else \"Fail\")"
   ]
  },
  {
   "cell_type": "code",
   "execution_count": 32,
   "metadata": {},
   "outputs": [
    {
     "name": "stdout",
     "output_type": "stream",
     "text": [
      "7.681145747868608\n",
      "1 15 30\n",
      "1 7 14\n",
      "8 11 14\n",
      "8 9 10\n",
      "8 8 8\n",
      "7\n"
     ]
    }
   ],
   "source": [
    "x = 59\n",
    "print(x**(1/2))\n",
    "print(sqrt(x))"
   ]
  }
 ],
 "metadata": {
  "kernelspec": {
   "display_name": "Python 3",
   "language": "python",
   "name": "python3"
  },
  "language_info": {
   "codemirror_mode": {
    "name": "ipython",
    "version": 3
   },
   "file_extension": ".py",
   "mimetype": "text/x-python",
   "name": "python",
   "nbconvert_exporter": "python",
   "pygments_lexer": "ipython3",
   "version": "3.8.5"
  }
 },
 "nbformat": 4,
 "nbformat_minor": 4
}
