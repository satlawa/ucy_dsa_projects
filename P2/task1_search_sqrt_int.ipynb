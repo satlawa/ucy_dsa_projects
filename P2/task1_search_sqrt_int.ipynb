{
 "cells": [
  {
   "cell_type": "code",
   "execution_count": null,
   "metadata": {},
   "outputs": [],
   "source": []
  },
  {
   "cell_type": "markdown",
   "metadata": {},
   "source": [
    "## Finding the Square Root of an Integer\n",
    "\n",
    "Find the square root of the integer without using any Python library. You have to find the floor value of the square root.\n",
    "\n",
    "For example if the given number is 16, then the answer would be 4.\n",
    "\n",
    "If the given number is 27, the answer would be 5 because sqrt(5) = 5.196 whose floor value is 5.\n",
    "\n",
    "The expected time complexity is O(log(n))"
   ]
  },
  {
   "cell_type": "code",
   "execution_count": 1,
   "metadata": {},
   "outputs": [
    {
     "name": "stdout",
     "output_type": "stream",
     "text": [
      "1 3 5\n",
      "Pass\n",
      "Pass\n",
      "1 5 9\n",
      "1 2 4\n",
      "3 3 4\n",
      "4 4 4\n",
      "Pass\n",
      "Pass\n",
      "1 7 14\n",
      "1 3 6\n",
      "4 5 6\n",
      "6 6 6\n",
      "Pass\n"
     ]
    }
   ],
   "source": [
    "def sqrt(number):\n",
    "    \"\"\"\n",
    "    Calculate the floored square root of a number using the binary search algorithm\n",
    "\n",
    "    Args:\n",
    "       number(int): Number to find the floored squared root\n",
    "    Returns:\n",
    "       int: Floored Square Root\n",
    "    \"\"\"\n",
    "    if (number is None) or (number == 0) or (number == 1):\n",
    "        return number\n",
    "    \n",
    "    elif number < 0:\n",
    "        return None\n",
    "    \n",
    "    else:\n",
    "        # set lower and upper bound for searching\n",
    "        lower_bound = 1\n",
    "        upper_bound = number // 2 + 1\n",
    "    \n",
    "        #sqrt_int = upper_bound // 2\n",
    "        \n",
    "        while lower_bound <= upper_bound:\n",
    "            \n",
    "            mid_elem = (lower_bound + upper_bound)//2        # integer division in Python 3\n",
    "            \n",
    "            print(lower_bound, mid_elem, upper_bound)\n",
    "\n",
    "            est_number = mid_elem * mid_elem\n",
    "\n",
    "            if number == est_number:                       # we have found the element\n",
    "                return mid_elem\n",
    "\n",
    "            elif number < est_number:                      # the target is less than mid element\n",
    "                upper_bound = mid_elem - 1                   # we will only search in the left half\n",
    "\n",
    "            else:                                           # the target is greater than mid element\n",
    "                lower_bound = mid_elem + 1               # we will search only in the right half\n",
    "                sqrt_int = mid_elem\n",
    "\n",
    "    \n",
    "    return sqrt_int\n",
    "\n",
    "print (\"Pass\" if  (3 == sqrt(9)) else \"Fail\")\n",
    "print (\"Pass\" if  (0 == sqrt(0)) else \"Fail\")\n",
    "print (\"Pass\" if  (4 == sqrt(16)) else \"Fail\")\n",
    "print (\"Pass\" if  (1 == sqrt(1)) else \"Fail\")\n",
    "print (\"Pass\" if  (5 == sqrt(27)) else \"Fail\")"
   ]
  },
  {
   "cell_type": "code",
   "execution_count": 6,
   "metadata": {},
   "outputs": [
    {
     "name": "stdout",
     "output_type": "stream",
     "text": [
      "1 24750000001.0 49500000001.0\n",
      "1 12375000000.0 24750000000.0\n",
      "1 6187500000.0 12374999999.0\n",
      "1 3093750000.0 6187499999.0\n",
      "1 1546875000.0 3093749999.0\n",
      "1 773437500.0 1546874999.0\n",
      "1 386718750.0 773437499.0\n",
      "1 193359375.0 386718749.0\n",
      "1 96679687.0 193359374.0\n",
      "1 48339843.0 96679686.0\n",
      "1 24169921.0 48339842.0\n",
      "1 12084960.0 24169920.0\n",
      "1 6042480.0 12084959.0\n",
      "1 3021240.0 6042479.0\n",
      "1 1510620.0 3021239.0\n",
      "1 755310.0 1510619.0\n",
      "1 377655.0 755309.0\n",
      "1 188827.0 377654.0\n",
      "188828.0 283241.0 377654.0\n",
      "283242.0 330448.0 377654.0\n",
      "283242.0 306844.0 330447.0\n",
      "306845.0 318646.0 330447.0\n",
      "306845.0 312745.0 318645.0\n",
      "312746.0 315695.0 318645.0\n",
      "312746.0 314220.0 315694.0\n",
      "314221.0 314957.0 315694.0\n",
      "314221.0 314588.0 314956.0\n",
      "314589.0 314772.0 314956.0\n",
      "314589.0 314680.0 314771.0\n",
      "314589.0 314634.0 314679.0\n",
      "314635.0 314657.0 314679.0\n",
      "314635.0 314645.0 314656.0\n",
      "314635.0 314639.0 314644.0\n",
      "314640.0 314642.0 314644.0\n",
      "314643.0 314643.0 314644.0\n",
      "314642.0\n"
     ]
    }
   ],
   "source": [
    "x = 99e9\n",
    "#print(x**(1/2))\n",
    "print(sqrt(x))"
   ]
  },
  {
   "cell_type": "code",
   "execution_count": null,
   "metadata": {},
   "outputs": [],
   "source": []
  }
 ],
 "metadata": {
  "kernelspec": {
   "display_name": "Python 3",
   "language": "python",
   "name": "python3"
  },
  "language_info": {
   "codemirror_mode": {
    "name": "ipython",
    "version": 3
   },
   "file_extension": ".py",
   "mimetype": "text/x-python",
   "name": "python",
   "nbconvert_exporter": "python",
   "pygments_lexer": "ipython3",
   "version": "3.8.5"
  }
 },
 "nbformat": 4,
 "nbformat_minor": 4
}
