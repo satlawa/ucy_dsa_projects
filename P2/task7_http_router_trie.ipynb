{
 "cells": [
  {
   "cell_type": "code",
   "execution_count": null,
   "metadata": {},
   "outputs": [],
   "source": []
  },
  {
   "cell_type": "markdown",
   "metadata": {},
   "source": [
    "## HTTPRouter using a Trie\n",
    "\n",
    "For this exercise we are going to implement an HTTPRouter like you would find in a typical web server using the Trie data structure we learned previously.\n",
    "\n",
    "There are many different implementations of HTTP Routers such as regular expressions or simple string matching, but the Trie is an excellent and very efficient data structure for this purpose.\n",
    "\n",
    "The purpose of an HTTP Router is to take a URL path like \"/\", \"/about\", or \"/blog/2019-01-15/my-awesome-blog-post\" and figure out what content to return. In a dynamic web server, the content will often come from a block of code called a handler.\n",
    "\n",
    "First we need to implement a slightly different Trie than the one we used for autocomplete. Instead of simple words the Trie will contain a part of the http path at each node, building from the root node /\n",
    "\n",
    "In addition to a path though, we need to know which function will handle the http request. In a real router we would probably pass an instance of a class like Python's SimpleHTTPRequestHandler which would be responsible for handling requests to that path. For the sake of simplicity we will just use a string that we can print out to ensure we got the right handler\n",
    "\n",
    "We could split the path into letters similar to how we did the autocomplete Trie, but this would result in a Trie with a very large number of nodes and lengthy traversals if we have a lot of pages on our site. A more sensible way to split things would be on the parts of the path that are separated by slashes (\"/\"). A Trie with a single path entry of: \"/about/me\" would look like:\n",
    "\n",
    "(root, None) -> (\"about\", None) -> (\"me\", \"About Me handler\")\n",
    "\n",
    "We can also simplify our RouteTrie a bit by excluding the suffixes method and the endOfWord property on RouteTrieNodes. We really just need to insert and find nodes, and if a RouteTrieNode is not a leaf node, it won't have a handler which is fine."
   ]
  },
  {
   "cell_type": "code",
   "execution_count": 1,
   "metadata": {},
   "outputs": [],
   "source": [
    "# A RouteTrie will store our routes and their associated handlers\n",
    "class RouteTrie:\n",
    "    def __init__(self, handler):\n",
    "        # Initialize the trie with an root node and a handler, this is the root path or home page node\n",
    "        self.root = RouteTrieNode()\n",
    "        self.handler = handler\n",
    "\n",
    "        \n",
    "    def insert(self, path_parts, handler):\n",
    "        # Similar to our previous example you will want to recursively add nodes\n",
    "        # Make sure you assign the handler to only the leaf (deepest) node of this path\n",
    "        \n",
    "        current_node = self.root\n",
    "\n",
    "        for path_part in path_parts:\n",
    "            current_node.insert(path_part)\n",
    "            current_node = current_node.children[path_part]\n",
    "            \n",
    "        current_node.handler = handler\n",
    "\n",
    "\n",
    "    def find(self, path_parts):\n",
    "        # Starting at the root, navigate the Trie to find a match for this path\n",
    "        # Return the handler for a match, or None for no match\n",
    "        \n",
    "        current_node = self.root\n",
    "        \n",
    "        for path_part in path_parts:\n",
    "            if path_part not in current_node.children:\n",
    "                return None\n",
    "            current_node = current_node.children[path_part]\n",
    "            \n",
    "        return current_node.handler\n",
    "\n",
    "# A RouteTrieNode will be similar to our autocomplete TrieNode... with one additional element, a handler.\n",
    "class RouteTrieNode:\n",
    "    def __init__(self):\n",
    "        # Initialize the node with children as before, plus a handler\n",
    "        self.handler = None\n",
    "        self.children = {}\n",
    "    \n",
    "    def insert(self, path_part):\n",
    "        # Insert the node as before\n",
    "        if path_part not in self.children:\n",
    "            self.children[path_part] = RouteTrieNode()"
   ]
  },
  {
   "cell_type": "markdown",
   "metadata": {},
   "source": [
    "Next we need to implement the actual Router. The router will initialize itself with a RouteTrie for holding routes and associated handlers. It should also support adding a handler by path and looking up a handler by path. All of these operations will be delegated to the RouteTrie.\n",
    "\n",
    "Hint: the RouteTrie stores handlers under path parts, so remember to split your path around the '/' character\n",
    "\n",
    "Bonus Points: Add a not found handler to your Router which is returned whenever a path is not found in the Trie.\n",
    "\n",
    "More Bonus Points: Handle trailing slashes! A request for '/about' or '/about/' are probably looking for the same page. Requests for '' or '/' are probably looking for the root handler. Handle these edge cases in your Router.\n"
   ]
  },
  {
   "cell_type": "code",
   "execution_count": 9,
   "metadata": {},
   "outputs": [],
   "source": [
    "# The Router class will wrap the Trie and handle \n",
    "class Router:\n",
    "    def __init__(self, handler_root, handler_404):\n",
    "        # Create a new RouteTrie for holding our routes\n",
    "        # You could also add a handler for 404 page not found responses as well!\n",
    "        self.router = RouteTrie(handler_root)\n",
    "        self.handler_404 = handler_404\n",
    "\n",
    "    def add_handler(self, path, handler):\n",
    "        # Add a handler for a path\n",
    "        # You will need to split the path and pass the pass parts\n",
    "        # as a list to the RouteTrie\n",
    "        path_parts = self.split_path(path)\n",
    "        self.router.insert(path_parts, handler)\n",
    "\n",
    "    def lookup(self, path):\n",
    "        # lookup path (by parts) and return the associated handler\n",
    "        # you can return None if it's not found or\n",
    "        # return the \"not found\" handler if you added one\n",
    "        # bonus points if a path works with and without a trailing slash\n",
    "        # e.g. /about and /about/ both return the /about handler\n",
    "        \n",
    "        if path == '/':\n",
    "            return self.router.handler\n",
    "        elif path is None or type(path) is not str:\n",
    "            return self.handler_404\n",
    "        \n",
    "        path_parts = self.split_path(path)\n",
    "        \n",
    "        found = self.router.find(path_parts)\n",
    "        \n",
    "        if found is None:\n",
    "            return self.handler_404\n",
    "        else:\n",
    "            return found\n",
    "\n",
    "    def split_path(self, path):\n",
    "        # you need to split the path into parts for \n",
    "        # both the add_handler and loopup functions,\n",
    "        # so it should be placed in a function here\n",
    "        path_parts = path.split(sep=\"/\")\n",
    "        return list(filter(None, path_parts))"
   ]
  },
  {
   "cell_type": "markdown",
   "metadata": {},
   "source": [
    "### Test cases"
   ]
  },
  {
   "cell_type": "code",
   "execution_count": 10,
   "metadata": {},
   "outputs": [
    {
     "name": "stdout",
     "output_type": "stream",
     "text": [
      "root handler\n",
      "not found handler\n",
      "about handler\n",
      "about handler\n",
      "not found handler\n"
     ]
    }
   ],
   "source": [
    "# Here are some test cases and expected outputs you can use to test your implementation\n",
    "\n",
    "# create the router and add a route\n",
    "router = Router(\"root handler\", \"not found handler\") # remove the 'not found handler' if you did not implement this\n",
    "router.add_handler(\"/home/about\", \"about handler\")  # add a route\n",
    "\n",
    "# some lookups with the expected output\n",
    "print(router.lookup(\"/\")) # should print 'root handler'\n",
    "print(router.lookup(\"/home\")) # should print 'not found handler' or None if you did not implement one\n",
    "print(router.lookup(\"/home/about\")) # should print 'about handler'\n",
    "print(router.lookup(\"/home/about/\")) # should print 'about handler' or None if you did not handle trailing slashes\n",
    "print(router.lookup(\"/home/about/me\")) # should print 'not found handler' or None if you did not implement one"
   ]
  },
  {
   "cell_type": "code",
   "execution_count": 11,
   "metadata": {},
   "outputs": [
    {
     "data": {
      "text/plain": [
       "['home', 'about']"
      ]
     },
     "execution_count": 11,
     "metadata": {},
     "output_type": "execute_result"
    }
   ],
   "source": [
    "path_parts = '/home/about'.split(sep=\"/\")\n",
    "path_parts\n",
    "list(filter(None, path_parts))"
   ]
  },
  {
   "cell_type": "code",
   "execution_count": 12,
   "metadata": {},
   "outputs": [
    {
     "data": {
      "text/plain": [
       "'not found handler'"
      ]
     },
     "execution_count": 12,
     "metadata": {},
     "output_type": "execute_result"
    }
   ],
   "source": [
    "router.handler_404"
   ]
  },
  {
   "cell_type": "code",
   "execution_count": 13,
   "metadata": {},
   "outputs": [
    {
     "data": {
      "text/plain": [
       "{'home': <__main__.RouteTrieNode at 0x7fba2aa70310>}"
      ]
     },
     "execution_count": 13,
     "metadata": {},
     "output_type": "execute_result"
    }
   ],
   "source": [
    "router.router.root.children"
   ]
  },
  {
   "cell_type": "code",
   "execution_count": 16,
   "metadata": {},
   "outputs": [
    {
     "name": "stdout",
     "output_type": "stream",
     "text": [
      "not found handler\n"
     ]
    }
   ],
   "source": [
    "print(router.lookup(None))"
   ]
  },
  {
   "cell_type": "code",
   "execution_count": null,
   "metadata": {},
   "outputs": [],
   "source": []
  }
 ],
 "metadata": {
  "kernelspec": {
   "display_name": "Python 3",
   "language": "python",
   "name": "python3"
  },
  "language_info": {
   "codemirror_mode": {
    "name": "ipython",
    "version": 3
   },
   "file_extension": ".py",
   "mimetype": "text/x-python",
   "name": "python",
   "nbconvert_exporter": "python",
   "pygments_lexer": "ipython3",
   "version": "3.8.5"
  }
 },
 "nbformat": 4,
 "nbformat_minor": 4
}
