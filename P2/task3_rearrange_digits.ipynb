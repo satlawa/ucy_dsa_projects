{
 "cells": [
  {
   "cell_type": "code",
   "execution_count": null,
   "metadata": {},
   "outputs": [],
   "source": []
  },
  {
   "cell_type": "markdown",
   "metadata": {},
   "source": [
    "## Rearrange Array Elements\n",
    "\n",
    "Rearrange Array Elements so as to form two number such that their sum is maximum. Return these two numbers. You can assume that all array elements are in the range [0, 9]. The number of digits in both the numbers cannot differ by more than 1. You're not allowed to use any sorting function that Python provides and the expected time complexity is O(nlog(n)).\n",
    "\n",
    "for e.g. [1, 2, 3, 4, 5]\n",
    "\n",
    "The expected answer would be [531, 42]. Another expected answer can be [542, 31]. In scenarios such as these when there are more than one possible answers, return any one."
   ]
  },
  {
   "cell_type": "code",
   "execution_count": null,
   "metadata": {},
   "outputs": [],
   "source": [
    "def rearrange_digits(input_list):\n",
    "    \"\"\"\n",
    "    Rearrange Array Elements so as to form two number such that their sum is maximum.\n",
    "\n",
    "    Args:\n",
    "       input_list(list): Input List\n",
    "    Returns:\n",
    "       (int),(int): Two maximum sums\n",
    "    \"\"\"\n",
    "    pass\n",
    "\n",
    "def test_function(test_case):\n",
    "    output = rearrange_digits(test_case[0])\n",
    "    solution = test_case[1]\n",
    "    if sum(output) == sum(solution):\n",
    "        print(\"Pass\")\n",
    "    else:\n",
    "        print(\"Fail\")\n",
    "\n",
    "test_function([[1, 2, 3, 4, 5], [542, 31]])\n",
    "test_case = [[4, 6, 2, 5, 9, 8], [964, 852]]\n"
   ]
  },
  {
   "cell_type": "code",
   "execution_count": null,
   "metadata": {},
   "outputs": [],
   "source": [
    "# divide into two equal arrays\n",
    "x = [4, 6, 2, 5, 9, 8]\n",
    "arr = rearrange_digits(x)\n",
    "\n",
    "\n",
    "\n",
    "mid = len(x) // 2\n",
    "arr = [x[:mid], x[mid:]]\n",
    "print(arr)\n",
    "print(\" -------------------------- \")\n",
    "arr[0] = rearrange_digits(arr[0])\n",
    "arr[1] = rearrange_digits(arr[1])\n",
    "print(\" -------------------------- \")\n",
    "arr[0] = create_number(arr[0])\n",
    "arr[1] = create_number(arr[1])\n",
    "print(arr)"
   ]
  },
  {
   "cell_type": "code",
   "execution_count": 34,
   "metadata": {},
   "outputs": [
    {
     "name": "stdout",
     "output_type": "stream",
     "text": [
      "[[4, 6, 2], [5, 9, 8]]\n",
      " -------------------------- \n",
      "[4] [6, 2]\n",
      "[6] [2]\n",
      "[5] [9, 8]\n",
      "[9] [8]\n",
      " -------------------------- \n",
      "[642, 985]\n"
     ]
    }
   ],
   "source": [
    "# divide into two equal arrays\n",
    "x = [4, 6, 2, 5, 9, 8]\n",
    "mid = len(x) // 2\n",
    "arr = [x[:mid], x[mid:]]\n",
    "print(arr)\n",
    "print(\" -------------------------- \")\n",
    "arr[0] = rearrange_digits(arr[0])\n",
    "arr[1] = rearrange_digits(arr[1])\n",
    "print(\" -------------------------- \")\n",
    "arr[0] = create_number(arr[0])\n",
    "arr[1] = create_number(arr[1])\n",
    "print(arr)"
   ]
  },
  {
   "cell_type": "code",
   "execution_count": 29,
   "metadata": {},
   "outputs": [],
   "source": [
    "def create_number(arr):\n",
    "    number = 0\n",
    "    for i in range(len(arr)):\n",
    "        number += arr[i] * 10**i\n",
    "    return number"
   ]
  },
  {
   "cell_type": "code",
   "execution_count": 20,
   "metadata": {},
   "outputs": [],
   "source": [
    "def rearrange_digits(items):\n",
    "    \n",
    "    if len(items) <= 1:\n",
    "        return items\n",
    "    \n",
    "    mid = len(items) // 2\n",
    "    left = items[:mid]\n",
    "    right = items[mid:]\n",
    "    \n",
    "    print(left, right)\n",
    "    \n",
    "    left = rearrange_digits(left)\n",
    "    right = rearrange_digits(right)\n",
    "    \n",
    "    return merge(left, right)\n",
    "\n",
    "\n",
    "def merge(left, right):\n",
    "    \n",
    "    merged = []\n",
    "    left_index = 0\n",
    "    right_index = 0\n",
    "    \n",
    "    while left_index < len(left) and right_index < len(right):\n",
    "        if left[left_index] > right[right_index]:\n",
    "            merged.append(right[right_index])\n",
    "            right_index += 1\n",
    "        else:\n",
    "            merged.append(left[left_index])\n",
    "            left_index += 1\n",
    "\n",
    "    merged += left[left_index:]\n",
    "    merged += right[right_index:]\n",
    "        \n",
    "    return merged\n"
   ]
  }
 ],
 "metadata": {
  "kernelspec": {
   "display_name": "Python 3",
   "language": "python",
   "name": "python3"
  },
  "language_info": {
   "codemirror_mode": {
    "name": "ipython",
    "version": 3
   },
   "file_extension": ".py",
   "mimetype": "text/x-python",
   "name": "python",
   "nbconvert_exporter": "python",
   "pygments_lexer": "ipython3",
   "version": "3.8.5"
  }
 },
 "nbformat": 4,
 "nbformat_minor": 4
}
