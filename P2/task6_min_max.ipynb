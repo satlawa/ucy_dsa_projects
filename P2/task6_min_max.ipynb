{
 "cells": [
  {
   "cell_type": "code",
   "execution_count": null,
   "metadata": {},
   "outputs": [],
   "source": []
  },
  {
   "cell_type": "markdown",
   "metadata": {},
   "source": [
    "## Max and Min in a Unsorted Array\n",
    "\n",
    "In this problem, we will look for smallest and largest integer from a list of unsorted integers. The code should run in O(n) time. Do not use Python's inbuilt functions to find min and max.\n",
    "\n",
    "Sorting usually requires O(n log n) time Can you come up with a O(n) algorithm (i.e., linear time)?"
   ]
  },
  {
   "cell_type": "code",
   "execution_count": 5,
   "metadata": {},
   "outputs": [
    {
     "name": "stdout",
     "output_type": "stream",
     "text": [
      "Fail min:9, max:999999\n",
      "Pass min:0, max:10\n",
      "Fail min:-20, max:20\n",
      "Fail min:-999999, max:-9\n"
     ]
    }
   ],
   "source": [
    "def get_min_max(ints):\n",
    "    \"\"\"\n",
    "    Return a tuple(min, max) out of list of unsorted integers.\n",
    "\n",
    "    Args:\n",
    "       ints(list): list of integers containing one or more integers\n",
    "    \"\"\"\n",
    "    min_int = float('inf')\n",
    "    max_int = -float('inf')\n",
    "    \n",
    "    for i in ints:\n",
    "        if i < min_int:\n",
    "            min_int = i\n",
    "        if i > max_int:\n",
    "            max_int = i\n",
    "    \n",
    "    return min_int, max_int\n",
    "\n",
    "## Example Test Case of Ten Integers\n",
    "import random\n",
    "\n",
    "l = [i for i in range(9, 999999)]\n",
    "random.shuffle(l)\n",
    "print (\"Pass min:9, max:999999\" if ((9, 999999) == get_min_max(l)) else \"Fail min:9, max:999999\")\n",
    "\n",
    "l = [i for i in range(0, 10)]\n",
    "random.shuffle(l)\n",
    "print (\"Pass min:0, max:10\" if ((0, 9) == get_min_max(l)) else \"Fail min:0, max:10\")\n",
    "\n",
    "l = [i for i in range(-20, 20)]\n",
    "random.shuffle(l)\n",
    "print (\"Pass min:-20, max:20\" if ((-20, 20) == get_min_max(l)) else \"Fail min:-20, max:20\")\n",
    "\n",
    "l = [i for i in range(-999999, -9)]\n",
    "random.shuffle(l)\n",
    "print (\"Pass min:-999999, max:-9\" if ((-999999, -9) == get_min_max(l)) else \"Fail min:-999999, max:-9\")\n"
   ]
  },
  {
   "cell_type": "code",
   "execution_count": null,
   "metadata": {},
   "outputs": [],
   "source": []
  }
 ],
 "metadata": {
  "kernelspec": {
   "display_name": "Python 3",
   "language": "python",
   "name": "python3"
  },
  "language_info": {
   "codemirror_mode": {
    "name": "ipython",
    "version": 3
   },
   "file_extension": ".py",
   "mimetype": "text/x-python",
   "name": "python",
   "nbconvert_exporter": "python",
   "pygments_lexer": "ipython3",
   "version": "3.8.5"
  }
 },
 "nbformat": 4,
 "nbformat_minor": 4
}
