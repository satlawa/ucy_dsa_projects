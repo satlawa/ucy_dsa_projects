{
 "cells": [
  {
   "cell_type": "code",
   "execution_count": null,
   "metadata": {},
   "outputs": [],
   "source": []
  },
  {
   "cell_type": "markdown",
   "metadata": {},
   "source": [
    "## Finding the Square Root of an Integer\n",
    "\n",
    "Find the square root of the integer without using any Python library. You have to find the floor value of the square root.\n",
    "\n",
    "For example if the given number is 16, then the answer would be 4.\n",
    "\n",
    "If the given number is 27, the answer would be 5 because sqrt(5) = 5.196 whose floor value is 5.\n",
    "\n",
    "The expected time complexity is O(log(n))"
   ]
  },
  {
   "cell_type": "code",
   "execution_count": 1,
   "metadata": {},
   "outputs": [
    {
     "name": "stdout",
     "output_type": "stream",
     "text": [
      "Pass sqrt(9) = 3\n",
      "Pass sqrt(16) = 4\n",
      "Pass sqrt(27) = 5\n",
      "Fail\n",
      "Pass sqrt(0) = 0\n",
      "Pass sqrt(1) = 1\n",
      "Pass sqrt(-10) = None\n"
     ]
    },
    {
     "ename": "TypeError",
     "evalue": "'<' not supported between instances of 'NoneType' and 'int'",
     "output_type": "error",
     "traceback": [
      "\u001b[0;31m---------------------------------------------------------------------------\u001b[0m",
      "\u001b[0;31mTypeError\u001b[0m                                 Traceback (most recent call last)",
      "\u001b[0;32m<ipython-input-1-7eea76fb479a>\u001b[0m in \u001b[0;36m<module>\u001b[0;34m\u001b[0m\n\u001b[1;32m     55\u001b[0m \u001b[0mprint\u001b[0m \u001b[0;34m(\u001b[0m\u001b[0;34m\"Pass sqrt(1) = {}\"\u001b[0m\u001b[0;34m.\u001b[0m\u001b[0mformat\u001b[0m\u001b[0;34m(\u001b[0m\u001b[0msqrt\u001b[0m\u001b[0;34m(\u001b[0m\u001b[0;36m1\u001b[0m\u001b[0;34m)\u001b[0m\u001b[0;34m)\u001b[0m \u001b[0;32mif\u001b[0m  \u001b[0;34m(\u001b[0m\u001b[0;36m1\u001b[0m \u001b[0;34m==\u001b[0m \u001b[0msqrt\u001b[0m\u001b[0;34m(\u001b[0m\u001b[0;36m1\u001b[0m\u001b[0;34m)\u001b[0m\u001b[0;34m)\u001b[0m \u001b[0;32melse\u001b[0m \u001b[0;34m\"Fail\"\u001b[0m\u001b[0;34m)\u001b[0m          \u001b[0;31m# expected output: 1\u001b[0m\u001b[0;34m\u001b[0m\u001b[0;34m\u001b[0m\u001b[0m\n\u001b[1;32m     56\u001b[0m \u001b[0mprint\u001b[0m \u001b[0;34m(\u001b[0m\u001b[0;34m\"Pass sqrt(-10) = {}\"\u001b[0m\u001b[0;34m.\u001b[0m\u001b[0mformat\u001b[0m\u001b[0;34m(\u001b[0m\u001b[0msqrt\u001b[0m\u001b[0;34m(\u001b[0m\u001b[0;34m-\u001b[0m\u001b[0;36m10\u001b[0m\u001b[0;34m)\u001b[0m\u001b[0;34m)\u001b[0m \u001b[0;32mif\u001b[0m  \u001b[0;34m(\u001b[0m\u001b[0;32mNone\u001b[0m \u001b[0;34m==\u001b[0m \u001b[0msqrt\u001b[0m\u001b[0;34m(\u001b[0m\u001b[0;34m-\u001b[0m\u001b[0;36m10\u001b[0m\u001b[0;34m)\u001b[0m\u001b[0;34m)\u001b[0m \u001b[0;32melse\u001b[0m \u001b[0;34m\"Fail\"\u001b[0m\u001b[0;34m)\u001b[0m \u001b[0;31m# expected output: None\u001b[0m\u001b[0;34m\u001b[0m\u001b[0;34m\u001b[0m\u001b[0m\n\u001b[0;32m---> 57\u001b[0;31m \u001b[0mprint\u001b[0m \u001b[0;34m(\u001b[0m\u001b[0;34m\"Pass sqrt(None) = {}\"\u001b[0m\u001b[0;34m.\u001b[0m\u001b[0mformat\u001b[0m\u001b[0;34m(\u001b[0m\u001b[0msqrt\u001b[0m\u001b[0;34m(\u001b[0m\u001b[0;32mNone\u001b[0m\u001b[0;34m)\u001b[0m\u001b[0;34m)\u001b[0m \u001b[0;32mif\u001b[0m  \u001b[0;34m(\u001b[0m\u001b[0;32mNone\u001b[0m \u001b[0;34m==\u001b[0m \u001b[0msqrt\u001b[0m\u001b[0;34m(\u001b[0m\u001b[0;32mNone\u001b[0m\u001b[0;34m)\u001b[0m\u001b[0;34m)\u001b[0m \u001b[0;32melse\u001b[0m \u001b[0;34m\"Fail\"\u001b[0m\u001b[0;34m)\u001b[0m \u001b[0;31m# expected output: None\u001b[0m\u001b[0;34m\u001b[0m\u001b[0;34m\u001b[0m\u001b[0m\n\u001b[0m",
      "\u001b[0;32m<ipython-input-1-7eea76fb479a>\u001b[0m in \u001b[0;36msqrt\u001b[0;34m(number)\u001b[0m\n\u001b[1;32m     14\u001b[0m         \u001b[0;32mreturn\u001b[0m \u001b[0mnumber\u001b[0m\u001b[0;34m\u001b[0m\u001b[0;34m\u001b[0m\u001b[0m\n\u001b[1;32m     15\u001b[0m \u001b[0;34m\u001b[0m\u001b[0m\n\u001b[0;32m---> 16\u001b[0;31m     \u001b[0;32melif\u001b[0m \u001b[0;34m(\u001b[0m\u001b[0mnumber\u001b[0m \u001b[0;34m<\u001b[0m \u001b[0;36m0\u001b[0m\u001b[0;34m)\u001b[0m \u001b[0;32mor\u001b[0m \u001b[0;34m(\u001b[0m\u001b[0mnumber\u001b[0m \u001b[0;32mis\u001b[0m \u001b[0;32mNone\u001b[0m\u001b[0;34m)\u001b[0m\u001b[0;34m:\u001b[0m\u001b[0;34m\u001b[0m\u001b[0;34m\u001b[0m\u001b[0m\n\u001b[0m\u001b[1;32m     17\u001b[0m         \u001b[0;32mreturn\u001b[0m \u001b[0;32mNone\u001b[0m\u001b[0;34m\u001b[0m\u001b[0;34m\u001b[0m\u001b[0m\n\u001b[1;32m     18\u001b[0m \u001b[0;34m\u001b[0m\u001b[0m\n",
      "\u001b[0;31mTypeError\u001b[0m: '<' not supported between instances of 'NoneType' and 'int'"
     ]
    }
   ],
   "source": [
    "## imports\n",
    "\n",
    "def sqrt(number):\n",
    "    \"\"\"\n",
    "    Calculate the floored square root of a number using the binary search algorithm\n",
    "\n",
    "    Args:\n",
    "       number(int): Number to find the floored squared root\n",
    "    Returns:\n",
    "       int: Floored Square Root\n",
    "    \"\"\"\n",
    "\n",
    "    if (number == 0) or (number == 1) or (number is None):\n",
    "        return number\n",
    "\n",
    "    elif (number < 0):\n",
    "        return None\n",
    "\n",
    "    else:\n",
    "        # set lower and upper bound for searching\n",
    "        lower_bound = 1\n",
    "        upper_bound = number // 2 + 1\n",
    "\n",
    "        # loop as long\n",
    "        while lower_bound <= upper_bound:\n",
    "            # estimate square root\n",
    "            mid_elem = (lower_bound + upper_bound) // 2\n",
    "            # square estimate for comparison\n",
    "            est_number = mid_elem * mid_elem\n",
    "\n",
    "            # found the element\n",
    "            if number == est_number:\n",
    "                return mid_elem\n",
    "            # the target is less than mid element\n",
    "            elif number < est_number:\n",
    "                # search in the left half\n",
    "                upper_bound = mid_elem - 1\n",
    "            #  the target is greater than mid element\n",
    "            else:\n",
    "                # search in the right half\n",
    "                lower_bound = mid_elem + 1\n",
    "                # in case it is the last element\n",
    "                sqrt_int = mid_elem\n",
    "\n",
    "    return sqrt_int\n",
    "\n",
    "\n",
    "# standard tests\n",
    "print (\"Pass sqrt(9) = {}\".format(sqrt(9)) if  (3 == sqrt(9)) else \"Fail\")          # expected output: 3\n",
    "print (\"Pass sqrt(16) = {}\".format(sqrt(16)) if  (4 == sqrt(16)) else \"Fail\")       # expected output: 4\n",
    "print (\"Pass sqrt(27) = {}\".format(sqrt(27)) if  (5 == sqrt(27)) else \"Fail\")       # expected output: 5\n",
    "print (\"Pass sqrt(999999) = {}\".format(sqrt(999999)) if  (999 == sqrt(999999)) else \"Fail\") # expected output: 999\n",
    "# edge cases\n",
    "print (\"Pass sqrt(0) = {}\".format(sqrt(0)) if  (0 == sqrt(0)) else \"Fail\")          # expected output: 0\n",
    "print (\"Pass sqrt(1) = {}\".format(sqrt(1)) if  (1 == sqrt(1)) else \"Fail\")          # expected output: 1\n",
    "print (\"Pass sqrt(-10) = {}\".format(sqrt(-10)) if  (None == sqrt(-10)) else \"Fail\") # expected output: None\n",
    "print (\"Pass sqrt(None) = {}\".format(sqrt(None)) if  (None == sqrt(None)) else \"Fail\") # expected output: None\n"
   ]
  },
  {
   "cell_type": "code",
   "execution_count": 2,
   "metadata": {},
   "outputs": [
    {
     "name": "stdout",
     "output_type": "stream",
     "text": [
      "999.999499999875\n",
      "999\n"
     ]
    }
   ],
   "source": [
    "x = 999999\n",
    "print(x**(1/2))\n",
    "print(sqrt(x))"
   ]
  },
  {
   "cell_type": "code",
   "execution_count": null,
   "metadata": {},
   "outputs": [],
   "source": []
  }
 ],
 "metadata": {
  "kernelspec": {
   "display_name": "Python 3",
   "language": "python",
   "name": "python3"
  },
  "language_info": {
   "codemirror_mode": {
    "name": "ipython",
    "version": 3
   },
   "file_extension": ".py",
   "mimetype": "text/x-python",
   "name": "python",
   "nbconvert_exporter": "python",
   "pygments_lexer": "ipython3",
   "version": "3.8.5"
  }
 },
 "nbformat": 4,
 "nbformat_minor": 4
}
