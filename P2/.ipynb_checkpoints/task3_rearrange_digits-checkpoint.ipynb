{
 "cells": [
  {
   "cell_type": "code",
   "execution_count": null,
   "metadata": {},
   "outputs": [],
   "source": []
  },
  {
   "cell_type": "markdown",
   "metadata": {},
   "source": [
    "## Rearrange Array Elements\n",
    "\n",
    "Rearrange Array Elements so as to form two number such that their sum is maximum. Return these two numbers. You can assume that all array elements are in the range [0, 9]. The number of digits in both the numbers cannot differ by more than 1. You're not allowed to use any sorting function that Python provides and the expected time complexity is O(nlog(n)).\n",
    "\n",
    "for e.g. [1, 2, 3, 4, 5]\n",
    "\n",
    "The expected answer would be [531, 42]. Another expected answer can be [542, 31]. In scenarios such as these when there are more than one possible answers, return any one."
   ]
  },
  {
   "cell_type": "code",
   "execution_count": null,
   "metadata": {},
   "outputs": [],
   "source": [
    "def rearrange_digits(input_list):\n",
    "    \"\"\"\n",
    "    Rearrange Array Elements so as to form two number such that their sum is maximum.\n",
    "\n",
    "    Args:\n",
    "       input_list(list): Input List\n",
    "    Returns:\n",
    "       (int),(int): Two maximum sums\n",
    "    \"\"\"\n",
    "    pass\n",
    "\n",
    "def test_function(test_case):\n",
    "    output = rearrange_digits(test_case[0])\n",
    "    solution = test_case[1]\n",
    "    if sum(output) == sum(solution):\n",
    "        print(\"Pass\")\n",
    "    else:\n",
    "        print(\"Fail\")\n",
    "\n",
    "test_function([[1, 2, 3, 4, 5], [542, 31]])\n",
    "test_case = [[4, 6, 2, 5, 9, 8], [964, 852]]\n"
   ]
  },
  {
   "cell_type": "code",
   "execution_count": null,
   "metadata": {},
   "outputs": [],
   "source": [
    "# divide into two equal arrays\n",
    "x = [4, 6, 2, 5, 9, 8]\n",
    "arr = rearrange_digits(x)\n",
    "\n",
    "\n",
    "\n",
    "mid = len(x) // 2\n",
    "arr = [x[:mid], x[mid:]]\n",
    "print(arr)\n",
    "print(\" -------------------------- \")\n",
    "arr[0] = rearrange_digits(arr[0])\n",
    "arr[1] = rearrange_digits(arr[1])\n",
    "print(\" -------------------------- \")\n",
    "arr[0] = create_number(arr[0])\n",
    "arr[1] = create_number(arr[1])\n",
    "print(arr)"
   ]
  },
  {
   "cell_type": "code",
   "execution_count": 34,
   "metadata": {},
   "outputs": [
    {
     "name": "stdout",
     "output_type": "stream",
     "text": [
      "[[4, 6, 2], [5, 9, 8]]\n",
      " -------------------------- \n",
      "[4] [6, 2]\n",
      "[6] [2]\n",
      "[5] [9, 8]\n",
      "[9] [8]\n",
      " -------------------------- \n",
      "[642, 985]\n"
     ]
    }
   ],
   "source": [
    "# divide into two equal arrays\n",
    "x = [4, 6, 2, 5, 9, 8]\n",
    "mid = len(x) // 2\n",
    "arr = [x[:mid], x[mid:]]\n",
    "print(arr)\n",
    "print(\" -------------------------- \")\n",
    "arr[0] = rearrange_digits(arr[0])\n",
    "arr[1] = rearrange_digits(arr[1])\n",
    "print(\" -------------------------- \")\n",
    "arr[0] = create_number(arr[0])\n",
    "arr[1] = create_number(arr[1])\n",
    "print(arr)"
   ]
  },
  {
   "cell_type": "code",
   "execution_count": 29,
   "metadata": {},
   "outputs": [],
   "source": [
    "def create_number(arr):\n",
    "    number = 0\n",
    "    for i in range(len(arr)):\n",
    "        number += arr[i] * 10**i\n",
    "    return number"
   ]
  },
  {
   "cell_type": "code",
   "execution_count": 2,
   "metadata": {},
   "outputs": [],
   "source": [
    "def mergesort(items):\n",
    "\n",
    "    if len(items) <= 1:\n",
    "        return items\n",
    "    \n",
    "    mid = len(items) // 2\n",
    "    left = items[:mid]\n",
    "    right = items[mid:]\n",
    "    \n",
    "    left = mergesort(left)\n",
    "    right = mergesort(right)\n",
    "    \n",
    "    return merge(left, right)\n",
    "    \n",
    "def merge(left, right):\n",
    "    \n",
    "    merged = []\n",
    "    left_index = 0\n",
    "    right_index = 0\n",
    "    \n",
    "    while left_index < len(left) and right_index < len(right):\n",
    "        if left[left_index] > right[right_index]:\n",
    "            merged.append(right[right_index])\n",
    "            right_index += 1\n",
    "        else:\n",
    "            merged.append(left[left_index])\n",
    "            left_index += 1\n",
    "\n",
    "    merged += left[left_index:]\n",
    "    merged += right[right_index:]\n",
    "        \n",
    "    return merged\n"
   ]
  },
  {
   "cell_type": "code",
   "execution_count": 3,
   "metadata": {},
   "outputs": [
    {
     "name": "stdout",
     "output_type": "stream",
     "text": [
      "[8, 3, 1, 7, 0, 10, 2] to [0, 1, 2, 3, 7, 8, 10]\n",
      "[1, 0] to [0, 1]\n",
      "[97, 98, 99] to [97, 98, 99]\n"
     ]
    }
   ],
   "source": [
    "test_list_1 = [8, 3, 1, 7, 0, 10, 2]\n",
    "test_list_2 = [1, 0]\n",
    "test_list_3 = [97, 98, 99]\n",
    "print('{} to {}'.format(test_list_1, mergesort(test_list_1)))\n",
    "print('{} to {}'.format(test_list_2, mergesort(test_list_2)))\n",
    "print('{} to {}'.format(test_list_3, mergesort(test_list_3)))"
   ]
  },
  {
   "cell_type": "code",
   "execution_count": 50,
   "metadata": {},
   "outputs": [
    {
     "name": "stdout",
     "output_type": "stream",
     "text": [
      "Pass\n",
      "Pass\n"
     ]
    }
   ],
   "source": [
    "def rearrange_digits(input_list):\n",
    "    \"\"\"\n",
    "    Rearrange Array Elements so as to form two number such that their sum is maximum.\n",
    "\n",
    "    Args:\n",
    "       input_list(list): Input List\n",
    "    Returns:\n",
    "       (int),(int): Two maximum sums\n",
    "    \"\"\"\n",
    "    \n",
    "    if len(input_list) < 2:\n",
    "        return input_list\n",
    "    \n",
    "    sorted_list = mergesort(input_list)\n",
    "    \n",
    "    # check if the length of input_list is odd\n",
    "    if len(sorted_list) % 2 == 1:\n",
    "        odd = True\n",
    "    else:\n",
    "        odd = False\n",
    "    \n",
    "    # list holding the rearranged Array Elements\n",
    "    sum_max = [0,0]\n",
    "    \n",
    "    # loop over every second index (i) and enumerate exponent (e)\n",
    "    for e, i in enumerate(range(0, len(sorted_list), 2)):\n",
    "        # find last element if the lenght of the list is odd\n",
    "        if i == len(x)-1 and odd:\n",
    "            sum_max[0] += sorted_list[i] * 10**e\n",
    "        else:\n",
    "            sum_max[1] += sorted_list[i] * 10**e\n",
    "            sum_max[0] += sorted_list[i+1] * 10**e\n",
    "        \n",
    "    return sum_max\n",
    "\n",
    "def test_function(test_case):\n",
    "    output = rearrange_digits(test_case[0])\n",
    "    solution = test_case[1]\n",
    "    if sum(output) == sum(solution):\n",
    "        print(\"Pass\")\n",
    "    else:\n",
    "        print(\"Fail\")\n",
    "\n",
    "test_function([[1, 2, 3, 4, 5], [542, 31]])\n",
    "test_function([[4, 6, 2, 5, 9, 8], [964, 852]])\n"
   ]
  },
  {
   "cell_type": "code",
   "execution_count": 49,
   "metadata": {},
   "outputs": [
    {
     "data": {
      "text/plain": [
       "[964, 852]"
      ]
     },
     "execution_count": 49,
     "metadata": {},
     "output_type": "execute_result"
    }
   ],
   "source": [
    "rearrange_digits([4, 6, 2, 5, 9, 8])"
   ]
  },
  {
   "cell_type": "code",
   "execution_count": 53,
   "metadata": {},
   "outputs": [
    {
     "data": {
      "text/plain": [
       "[1, 1]"
      ]
     },
     "execution_count": 53,
     "metadata": {},
     "output_type": "execute_result"
    }
   ],
   "source": [
    "rearrange_digits([1,1])"
   ]
  },
  {
   "cell_type": "code",
   "execution_count": null,
   "metadata": {},
   "outputs": [],
   "source": []
  }
 ],
 "metadata": {
  "kernelspec": {
   "display_name": "Python 3",
   "language": "python",
   "name": "python3"
  },
  "language_info": {
   "codemirror_mode": {
    "name": "ipython",
    "version": 3
   },
   "file_extension": ".py",
   "mimetype": "text/x-python",
   "name": "python",
   "nbconvert_exporter": "python",
   "pygments_lexer": "ipython3",
   "version": "3.8.5"
  }
 },
 "nbformat": 4,
 "nbformat_minor": 4
}
