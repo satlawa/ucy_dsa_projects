{
 "cells": [
  {
   "cell_type": "code",
   "execution_count": null,
   "metadata": {},
   "outputs": [],
   "source": []
  },
  {
   "cell_type": "markdown",
   "metadata": {},
   "source": [
    "## Task 2 - Finding Files\n",
    "\n",
    "For this problem, the goal is to write code for finding all files under a directory (and all directories beneath it) that end with \".c\"\n",
    "\n",
    "Here is an example of a test directory listing, which can be downloaded here:\n",
    "\n",
    "* ./testdir\n",
    "* ./testdir/subdir1\n",
    "* ./testdir/subdir1/a.c\n",
    "* ./testdir/subdir1/a.h\n",
    "* ./testdir/subdir2\n",
    "* ./testdir/subdir2/.gitkeep\n",
    "* ./testdir/subdir3\n",
    "* ./testdir/subdir3/subsubdir1\n",
    "* ./testdir/subdir3/subsubdir1/b.c\n",
    "* ./testdir/subdir3/subsubdir1/b.h\n",
    "* ./testdir/subdir4\n",
    "* ./testdir/subdir4/.gitkeep\n",
    "* ./testdir/subdir5\n",
    "* ./testdir/subdir5/a.c\n",
    "* ./testdir/subdir5/a.h\n",
    "* ./testdir/t1.c\n",
    "* ./testdir/t1.h´\n",
    "\n",
    "Python's os module will be useful—in particular, you may want to use the following resources:\n",
    "\n",
    "os.path.isdir(path)\n",
    "\n",
    "os.path.isfile(path)\n",
    "\n",
    "os.listdir(directory)\n",
    "\n",
    "os.path.join(...)\n",
    "\n",
    "Note: ´os.walk()´ is a handy Python method which can achieve this task very easily. However, for this problem you are not allowed to use os.walk().\n",
    "\n",
    "Here is some code for the function to get you started: "
   ]
  },
  {
   "cell_type": "code",
   "execution_count": 1,
   "metadata": {},
   "outputs": [],
   "source": [
    "def find_files(suffix, path):\n",
    "    \"\"\"\n",
    "    Find all files beneath path with file name suffix.\n",
    "\n",
    "    Note that a path may contain further subdirectories\n",
    "    and those subdirectories may also contain further subdirectories.\n",
    "\n",
    "    There are no limit to the depth of the subdirectories can be.\n",
    "\n",
    "    Args:\n",
    "      suffix(str): suffix if the file name to be found\n",
    "      path(str): path of the file system\n",
    "\n",
    "    Returns:\n",
    "       a list of paths\n",
    "    \"\"\"\n",
    "    return None"
   ]
  },
  {
   "cell_type": "code",
   "execution_count": 2,
   "metadata": {},
   "outputs": [
    {
     "name": "stdout",
     "output_type": "stream",
     "text": [
      "['task1_lru_cache.ipynb', '.ipynb_checkpoints', 'task2_.ipynb']\n",
      "False\n",
      "True\n"
     ]
    }
   ],
   "source": [
    "## Locally save and call this file ex.py ##\n",
    "\n",
    "# Code to demonstrate the use of some of the OS modules in python\n",
    "\n",
    "import os\n",
    "\n",
    "# Let us print the files in the directory in which you are running this script\n",
    "print (os.listdir(\".\"))\n",
    "\n",
    "# Let us check if this file is indeed a file!\n",
    "print (os.path.isfile(\"./ex.py\"))\n",
    "\n",
    "# Does the file end with .py?\n",
    "print (\"./ex.py\".endswith(\".py\"))"
   ]
  },
  {
   "cell_type": "code",
   "execution_count": null,
   "metadata": {},
   "outputs": [],
   "source": []
  }
 ],
 "metadata": {
  "kernelspec": {
   "display_name": "Python 3",
   "language": "python",
   "name": "python3"
  },
  "language_info": {
   "codemirror_mode": {
    "name": "ipython",
    "version": 3
   },
   "file_extension": ".py",
   "mimetype": "text/x-python",
   "name": "python",
   "nbconvert_exporter": "python",
   "pygments_lexer": "ipython3",
   "version": "3.8.5"
  }
 },
 "nbformat": 4,
 "nbformat_minor": 4
}
