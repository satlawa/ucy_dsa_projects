{
 "cells": [
  {
   "cell_type": "code",
   "execution_count": null,
   "metadata": {},
   "outputs": [],
   "source": []
  },
  {
   "cell_type": "markdown",
   "metadata": {},
   "source": [
    "## Task 2 - Finding Files\n",
    "\n",
    "For this problem, the goal is to write code for finding all files under a directory (and all directories beneath it) that end with \".c\"\n",
    "\n",
    "Here is an example of a test directory listing, which can be downloaded here:\n",
    "\n",
    "* ./testdir\n",
    "* ./testdir/subdir1\n",
    "* ./testdir/subdir1/a.c\n",
    "* ./testdir/subdir1/a.h\n",
    "* ./testdir/subdir2\n",
    "* ./testdir/subdir2/.gitkeep\n",
    "* ./testdir/subdir3\n",
    "* ./testdir/subdir3/subsubdir1\n",
    "* ./testdir/subdir3/subsubdir1/b.c\n",
    "* ./testdir/subdir3/subsubdir1/b.h\n",
    "* ./testdir/subdir4\n",
    "* ./testdir/subdir4/.gitkeep\n",
    "* ./testdir/subdir5\n",
    "* ./testdir/subdir5/a.c\n",
    "* ./testdir/subdir5/a.h\n",
    "* ./testdir/t1.c\n",
    "* ./testdir/t1.h´\n",
    "\n",
    "Python's os module will be useful—in particular, you may want to use the following resources:\n",
    "\n",
    "os.path.isdir(path)\n",
    "\n",
    "os.path.isfile(path)\n",
    "\n",
    "os.listdir(directory)\n",
    "\n",
    "os.path.join(...)\n",
    "\n",
    "Note: ´os.walk()´ is a handy Python method which can achieve this task very easily. However, for this problem you are not allowed to use os.walk().\n",
    "\n",
    "Here is some code for the function to get you started: "
   ]
  },
  {
   "cell_type": "code",
   "execution_count": 32,
   "metadata": {},
   "outputs": [],
   "source": [
    "# imports\n",
    "import os\n",
    "\n",
    "def find_files(suffix, path):\n",
    "    \"\"\"\n",
    "    Find all files beneath path with file name suffix.\n",
    "\n",
    "    Note that a path may contain further subdirectories\n",
    "    and those subdirectories may also contain further subdirectories.\n",
    "\n",
    "    There are no limit to the depth of the subdirectories can be.\n",
    "\n",
    "    Args:\n",
    "      suffix(str): suffix if the file name to be found\n",
    "      path(str): path of the file system\n",
    "\n",
    "    Returns:\n",
    "       a list of paths\n",
    "    \"\"\"\n",
    "    \n",
    "    # list to store the path of the files with suffix\n",
    "    suffix_files = list()\n",
    "\n",
    "    # if path does not exists, print a error massage and return an empty list\n",
    "    if not os.path.exists(path):\n",
    "        print(\"Provided path does not exist\")\n",
    "        return suffix_files\n",
    "    \n",
    "    # if no suffix is provided, print a error massage and return an empty list\n",
    "    if suffix == \"\":\n",
    "        print(\"No suffix provided\")\n",
    "        return suffix_files\n",
    "    \n",
    "    # if provided path is a file, check if file has the right suffix\n",
    "    if os.path.isfile(path):\n",
    "        if '.' + suffix in path:\n",
    "            suffix_files.append(path)\n",
    "        return suffix_files\n",
    "\n",
    "    # get a list of items that are in the directory\n",
    "    items = os.listdir(path)\n",
    "\n",
    "    # loop over items\n",
    "    for item in items:\n",
    "        # convert item name to a path\n",
    "        current_path = os.path.join(path, item)\n",
    "        # if current path is a directory, call function recursivly\n",
    "        if os.path.isdir(current_path):\n",
    "            suffix_files.extend(find_files(suffix, current_path))\n",
    "        # if current path is a file and has the suffix then add it to the list\n",
    "        elif os.path.isfile(current_path) and len(current_path) > len(suffix):\n",
    "            if '.' + suffix in current_path:\n",
    "                suffix_files.append(current_path)\n",
    "\n",
    "    return suffix_files"
   ]
  },
  {
   "cell_type": "code",
   "execution_count": 33,
   "metadata": {},
   "outputs": [
    {
     "name": "stdout",
     "output_type": "stream",
     "text": [
      "--------------------------------------------\n",
      "Call function: find_files('c','./testdir'):\n",
      "['./testdir/subdir3/subsubdir1/b.c', './testdir/subdir1/a.c', './testdir/t1.c', './testdir/subdir5/a.c']\n",
      "--------------------------------------------\n",
      "Call function: find_files('c','./testdir/subdir1/a.c'):\n",
      "['./testdir/subdir1/a.c']\n",
      "--------------------------------------------\n",
      "Call function: find_files('c','./test'):\n",
      "Provided path does not exist\n",
      "[]\n",
      "--------------------------------------------\n",
      "Call function: find_files('','./testdir'):\n",
      "No suffix provided\n",
      "[]\n",
      "--------------------------------------------\n",
      "Call function: find_files('',''):\n",
      "Provided path does not exist\n",
      "[]\n"
     ]
    }
   ],
   "source": [
    "# standard test cases\n",
    "print(\"--------------------------------------------\")\n",
    "print(\"Call function: find_files('c','./testdir'):\")\n",
    "print(find_files(\"c\",\"./testdir\")) # ['./testdir/subdir3/subsubdir1/b.c', './testdir/subdir1/a.c', './testdir/t1.c', './testdir/subdir5/a.c']\n",
    "\n",
    "print(\"--------------------------------------------\")\n",
    "print(\"Call function: find_files('c','./testdir/subdir1/a.c'):\")\n",
    "print(find_files(\"c\",\"./testdir/subdir1/a.c\")) # ['./testdir/subdir1/a.c']\n",
    "\n",
    "# edge test cases\n",
    "print(\"--------------------------------------------\")\n",
    "print(\"Call function: find_files('c','./test'):\")\n",
    "print(find_files(\"c\",\"./test\")) # []\n",
    "\n",
    "print(\"--------------------------------------------\")\n",
    "print(\"Call function: find_files('','./testdir'):\")\n",
    "print(find_files(\"\",\"./testdir\")) # []\n",
    "\n",
    "print(\"--------------------------------------------\")\n",
    "print(\"Call function: find_files('',''):\")\n",
    "print(find_files(\"\",\"\")) # []"
   ]
  },
  {
   "cell_type": "code",
   "execution_count": 1,
   "metadata": {},
   "outputs": [
    {
     "name": "stdout",
     "output_type": "stream",
     "text": [
      "['task5_blockchain.ipynb', 'task1_lru_cache.ipynb', 'task3_data_compression.ipynb', '.ipynb_checkpoints', 'task4_active_directory.ipynb', 'task2_finding_files.ipynb', 'testdir']\n",
      "False\n",
      "True\n"
     ]
    }
   ],
   "source": [
    "## Locally save and call this file ex.py ##\n",
    "\n",
    "# Code to demonstrate the use of some of the OS modules in python\n",
    "\n",
    "import os\n",
    "\n",
    "# Let us print the files in the directory in which you are running this script\n",
    "print (os.listdir(\".\"))\n",
    "\n",
    "# Let us check if this file is indeed a file!\n",
    "print (os.path.isfile(\"./ex.py\"))\n",
    "\n",
    "# Does the file end with .py?\n",
    "print (\"./ex.py\".endswith(\".py\"))"
   ]
  },
  {
   "cell_type": "code",
   "execution_count": 6,
   "metadata": {},
   "outputs": [
    {
     "name": "stdout",
     "output_type": "stream",
     "text": [
      "True\n",
      "False\n"
     ]
    }
   ],
   "source": [
    "# check if path is dir\n",
    "print(os.path.isdir(\"./testdir/\"))\n",
    "print(os.path.isdir(\"./testdir/t1.c\"))"
   ]
  },
  {
   "cell_type": "code",
   "execution_count": 5,
   "metadata": {},
   "outputs": [
    {
     "data": {
      "text/plain": [
       "False"
      ]
     },
     "execution_count": 5,
     "metadata": {},
     "output_type": "execute_result"
    }
   ],
   "source": [
    "# check if file exists\n",
    "print(os.path.isfile(\"./testdir/t1.c\"))\n",
    "print(os.path.isfile(\"./testdir/t11.c\"))"
   ]
  },
  {
   "cell_type": "code",
   "execution_count": 7,
   "metadata": {},
   "outputs": [
    {
     "name": "stdout",
     "output_type": "stream",
     "text": [
      "['subdir3', 'subdir1', 'subdir4', 'subdir2', 't1.h', 't1.c', 'subdir5']\n"
     ]
    }
   ],
   "source": [
    "# list files in directory\n",
    "print(os.listdir(\"./testdir/\"))"
   ]
  },
  {
   "cell_type": "code",
   "execution_count": null,
   "metadata": {},
   "outputs": [],
   "source": [
    "# to join path string\n",
    "os.path.join(...)"
   ]
  },
  {
   "cell_type": "code",
   "execution_count": 25,
   "metadata": {},
   "outputs": [],
   "source": [
    "base_path = \"./\"\n",
    "items = os.listdir(base_path)"
   ]
  },
  {
   "cell_type": "code",
   "execution_count": 26,
   "metadata": {},
   "outputs": [
    {
     "data": {
      "text/plain": [
       "['task5_blockchain.ipynb',\n",
       " 'task1_lru_cache.ipynb',\n",
       " 'task3_data_compression.ipynb',\n",
       " '.ipynb_checkpoints',\n",
       " 'task4_active_directory.ipynb',\n",
       " 'task2_finding_files.ipynb',\n",
       " 'testdir']"
      ]
     },
     "execution_count": 26,
     "metadata": {},
     "output_type": "execute_result"
    }
   ],
   "source": [
    "items"
   ]
  },
  {
   "cell_type": "code",
   "execution_count": 27,
   "metadata": {},
   "outputs": [],
   "source": [
    "current = items.pop()"
   ]
  },
  {
   "cell_type": "code",
   "execution_count": 28,
   "metadata": {},
   "outputs": [
    {
     "data": {
      "text/plain": [
       "['task5_blockchain.ipynb',\n",
       " 'task1_lru_cache.ipynb',\n",
       " 'task3_data_compression.ipynb',\n",
       " '.ipynb_checkpoints',\n",
       " 'task4_active_directory.ipynb',\n",
       " 'task2_finding_files.ipynb']"
      ]
     },
     "execution_count": 28,
     "metadata": {},
     "output_type": "execute_result"
    }
   ],
   "source": [
    "items"
   ]
  },
  {
   "cell_type": "code",
   "execution_count": 29,
   "metadata": {},
   "outputs": [
    {
     "data": {
      "text/plain": [
       "'testdir'"
      ]
     },
     "execution_count": 29,
     "metadata": {},
     "output_type": "execute_result"
    }
   ],
   "source": [
    "current"
   ]
  },
  {
   "cell_type": "code",
   "execution_count": 31,
   "metadata": {},
   "outputs": [],
   "source": [
    "current = os.path.join(base_path, current)"
   ]
  },
  {
   "cell_type": "code",
   "execution_count": 32,
   "metadata": {},
   "outputs": [
    {
     "data": {
      "text/plain": [
       "True"
      ]
     },
     "execution_count": 32,
     "metadata": {},
     "output_type": "execute_result"
    }
   ],
   "source": [
    "os.path.isdir(\"./testdir/\")"
   ]
  },
  {
   "cell_type": "markdown",
   "metadata": {},
   "source": []
  },
  {
   "cell_type": "code",
   "execution_count": 8,
   "metadata": {},
   "outputs": [],
   "source": [
    "def test(path, suffix):\n",
    "    \n",
    "    c_files = list()\n",
    "    \n",
    "    if not os.path.exists(path):\n",
    "        print(\"Provided path does not exist\")\n",
    "        return c_files\n",
    "    \n",
    "    # get a list of items in the directory\n",
    "    items = os.listdir(path)\n",
    "    \n",
    "    # loop over items\n",
    "    for item in items:\n",
    "        # convert item name to a path\n",
    "        current_path = os.path.join(path, item)\n",
    "        # if its a directory, call function recursivly\n",
    "        if os.path.isdir(current_path):\n",
    "            c_files.extend(test(current_path, suffix))\n",
    "        # if its a file and has the suffix \".c\" then add it to the list\n",
    "        elif os.path.isfile(current_path) and len(current_path) > 2:\n",
    "            if current_path[-2:] == suffix:\n",
    "                c_files.append(current_path)\n",
    "                print(current_path)\n",
    "                \n",
    "    return c_files"
   ]
  },
  {
   "cell_type": "code",
   "execution_count": 9,
   "metadata": {},
   "outputs": [
    {
     "name": "stdout",
     "output_type": "stream",
     "text": [
      "./testdir/subdir3/subsubdir1/b.c\n",
      "./testdir/subdir1/a.c\n",
      "./testdir/t1.c\n",
      "./testdir/subdir5/a.c\n"
     ]
    },
    {
     "data": {
      "text/plain": [
       "['./testdir/subdir3/subsubdir1/b.c',\n",
       " './testdir/subdir1/a.c',\n",
       " './testdir/t1.c',\n",
       " './testdir/subdir5/a.c']"
      ]
     },
     "execution_count": 9,
     "metadata": {},
     "output_type": "execute_result"
    }
   ],
   "source": [
    "test(\"./testdir\", \".c\")"
   ]
  },
  {
   "cell_type": "code",
   "execution_count": 69,
   "metadata": {},
   "outputs": [
    {
     "name": "stdout",
     "output_type": "stream",
     "text": [
      "./testdir/subdir3/subsubdir1/b.h\n",
      "./testdir/subdir1/a.h\n",
      "./testdir/t1.h\n",
      "./testdir/subdir5/a.h\n"
     ]
    },
    {
     "data": {
      "text/plain": [
       "['./testdir/subdir3/subsubdir1/b.h',\n",
       " './testdir/subdir1/a.h',\n",
       " './testdir/t1.h',\n",
       " './testdir/subdir5/a.h']"
      ]
     },
     "execution_count": 69,
     "metadata": {},
     "output_type": "execute_result"
    }
   ],
   "source": [
    "test(\"./\", \".h\")"
   ]
  },
  {
   "cell_type": "code",
   "execution_count": null,
   "metadata": {},
   "outputs": [],
   "source": []
  }
 ],
 "metadata": {
  "kernelspec": {
   "display_name": "Python 3",
   "language": "python",
   "name": "python3"
  },
  "language_info": {
   "codemirror_mode": {
    "name": "ipython",
    "version": 3
   },
   "file_extension": ".py",
   "mimetype": "text/x-python",
   "name": "python",
   "nbconvert_exporter": "python",
   "pygments_lexer": "ipython3",
   "version": "3.8.5"
  }
 },
 "nbformat": 4,
 "nbformat_minor": 4
}
