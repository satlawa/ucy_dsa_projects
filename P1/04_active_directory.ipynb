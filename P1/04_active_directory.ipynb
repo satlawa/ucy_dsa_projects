{
 "cells": [
  {
   "cell_type": "code",
   "execution_count": null,
   "metadata": {},
   "outputs": [],
   "source": []
  },
  {
   "cell_type": "markdown",
   "metadata": {},
   "source": [
    "## Task 4 - Active Directory\n",
    "\n",
    "In Windows Active Directory, a group can consist of user(s) and group(s) themselves. We can construct this hierarchy as such. Where User is represented by str representing their ids. "
   ]
  },
  {
   "cell_type": "code",
   "execution_count": 1,
   "metadata": {},
   "outputs": [],
   "source": [
    "class Group(object):\n",
    "    def __init__(self, _name):\n",
    "        self.name = _name\n",
    "        self.groups = []\n",
    "        self.users = []\n",
    "\n",
    "    def add_group(self, group):\n",
    "        self.groups.append(group)\n",
    "\n",
    "    def add_user(self, user):\n",
    "        self.users.append(user)\n",
    "\n",
    "    def get_groups(self):\n",
    "        return self.groups\n",
    "\n",
    "    def get_users(self):\n",
    "        return self.users\n",
    "\n",
    "    def get_name(self):\n",
    "        return self.name\n",
    "\n",
    "\n",
    "parent = Group(\"parent\")\n",
    "child = Group(\"child\")\n",
    "sub_child = Group(\"subchild\")\n",
    "\n",
    "sub_child_user = \"sub_child_user\"\n",
    "sub_child.add_user(sub_child_user)\n",
    "\n",
    "child.add_group(sub_child)\n",
    "parent.add_group(child)\n"
   ]
  },
  {
   "cell_type": "code",
   "execution_count": 2,
   "metadata": {},
   "outputs": [],
   "source": [
    "parent = Group(\"parent\")\n",
    "child1 = Group(\"child1\")\n",
    "child2 = Group(\"child2\")\n",
    "child3 = Group(\"child3\")\n",
    "sub_child1 = Group(\"subchild1\")\n",
    "sub_child2 = Group(\"subchild2\")\n",
    "sub_child3 = Group(\"subchild3\")\n",
    "sub_child4 = Group(\"subchild4\")\n",
    "sub_child5 = Group(\"subchild5\")\n",
    "\n",
    "sub_child1.add_user(\"Adam\")\n",
    "child2.add_user(\"Birgit\")\n",
    "child2.add_user(\"Cäsar\")\n",
    "child3.add_user(\"Dominik\")\n",
    "sub_child1.add_user(\"Emil\")\n",
    "sub_child3.add_user(\"Franz\")\n",
    "sub_child3.add_user(\"Gustav\")\n",
    "sub_child5.add_user(\"Hermine\")\n",
    "sub_child5.add_user(\"Ida\")\n",
    "sub_child5.add_user(\"Julia\")\n",
    "\n",
    "child1.add_group(sub_child1)\n",
    "child2.add_group(sub_child2)\n",
    "child2.add_group(sub_child3)\n",
    "child3.add_group(sub_child4)\n",
    "child3.add_group(sub_child5)\n",
    "parent.add_group(child1)\n",
    "parent.add_group(child2)\n",
    "parent.add_group(child3)"
   ]
  },
  {
   "cell_type": "code",
   "execution_count": 3,
   "metadata": {},
   "outputs": [
    {
     "data": {
      "text/plain": [
       "['Adam', 'Emil']"
      ]
     },
     "execution_count": 3,
     "metadata": {},
     "output_type": "execute_result"
    }
   ],
   "source": [
    "parent.get_groups()[0].get_groups()[0].users"
   ]
  },
  {
   "cell_type": "code",
   "execution_count": 31,
   "metadata": {},
   "outputs": [],
   "source": [
    "def is_user_in_group(user, group):\n",
    "    \"\"\"\n",
    "    Return True if user is in the group, False otherwise.\n",
    "\n",
    "    Args:\n",
    "      user(str): user name/id\n",
    "      group(class:Group): group to check user membership against\n",
    "    \"\"\"\n",
    "    \n",
    "    if not isinstance(user, str) or not isinstance(group, Group) or user == \"\":\n",
    "        return False\n",
    "    \n",
    "    found = False\n",
    "    users = group.get_users()\n",
    "    \n",
    "    if user in users:\n",
    "        return True\n",
    "    else:\n",
    "        groups = group.get_groups()\n",
    "        index = 0\n",
    "        while index < len(groups) and found == False:\n",
    "        #for gr in group.get_groups():\n",
    "            found = is_user_in_group(user, groups[index])\n",
    "            index += 1\n",
    "    \n",
    "    return found"
   ]
  },
  {
   "cell_type": "code",
   "execution_count": 23,
   "metadata": {},
   "outputs": [
    {
     "data": {
      "text/plain": [
       "True"
      ]
     },
     "execution_count": 23,
     "metadata": {},
     "output_type": "execute_result"
    }
   ],
   "source": [
    "is_user_in_group(\"Adam\", sub_child1)"
   ]
  },
  {
   "cell_type": "code",
   "execution_count": 24,
   "metadata": {},
   "outputs": [
    {
     "data": {
      "text/plain": [
       "True"
      ]
     },
     "execution_count": 24,
     "metadata": {},
     "output_type": "execute_result"
    }
   ],
   "source": [
    "is_user_in_group(\"Adam\", child1)"
   ]
  },
  {
   "cell_type": "code",
   "execution_count": 25,
   "metadata": {},
   "outputs": [
    {
     "data": {
      "text/plain": [
       "True"
      ]
     },
     "execution_count": 25,
     "metadata": {},
     "output_type": "execute_result"
    }
   ],
   "source": [
    "is_user_in_group(\"Birgit\", child2)"
   ]
  },
  {
   "cell_type": "code",
   "execution_count": 26,
   "metadata": {},
   "outputs": [
    {
     "data": {
      "text/plain": [
       "True"
      ]
     },
     "execution_count": 26,
     "metadata": {},
     "output_type": "execute_result"
    }
   ],
   "source": [
    "is_user_in_group(\"Adam\", parent)"
   ]
  },
  {
   "cell_type": "code",
   "execution_count": 27,
   "metadata": {},
   "outputs": [
    {
     "data": {
      "text/plain": [
       "True"
      ]
     },
     "execution_count": 27,
     "metadata": {},
     "output_type": "execute_result"
    }
   ],
   "source": [
    "is_user_in_group(\"Julia\", child3)"
   ]
  },
  {
   "cell_type": "code",
   "execution_count": 28,
   "metadata": {},
   "outputs": [
    {
     "data": {
      "text/plain": [
       "True"
      ]
     },
     "execution_count": 28,
     "metadata": {},
     "output_type": "execute_result"
    }
   ],
   "source": [
    "is_user_in_group(\"Ida\", parent)"
   ]
  },
  {
   "cell_type": "code",
   "execution_count": 32,
   "metadata": {},
   "outputs": [
    {
     "name": "stdout",
     "output_type": "stream",
     "text": [
      "True\n",
      "False\n"
     ]
    },
    {
     "ename": "NameError",
     "evalue": "name 's_user_in_group' is not defined",
     "output_type": "error",
     "traceback": [
      "\u001b[0;31m---------------------------------------------------------------------------\u001b[0m",
      "\u001b[0;31mNameError\u001b[0m                                 Traceback (most recent call last)",
      "\u001b[0;32m<ipython-input-32-d5cb4ee8c0af>\u001b[0m in \u001b[0;36m<module>\u001b[0;34m\u001b[0m\n\u001b[1;32m      4\u001b[0m \u001b[0;34m\u001b[0m\u001b[0m\n\u001b[1;32m      5\u001b[0m \u001b[0;31m# edge test cases\u001b[0m\u001b[0;34m\u001b[0m\u001b[0;34m\u001b[0m\u001b[0;34m\u001b[0m\u001b[0m\n\u001b[0;32m----> 6\u001b[0;31m \u001b[0mprint\u001b[0m\u001b[0;34m(\u001b[0m\u001b[0ms_user_in_group\u001b[0m\u001b[0;34m(\u001b[0m\u001b[0;34m\"\"\u001b[0m\u001b[0;34m,\u001b[0m \u001b[0msub_child\u001b[0m\u001b[0;34m)\u001b[0m\u001b[0;34m)\u001b[0m\u001b[0;34m\u001b[0m\u001b[0;34m\u001b[0m\u001b[0m\n\u001b[0m\u001b[1;32m      7\u001b[0m \u001b[0mprint\u001b[0m\u001b[0;34m(\u001b[0m\u001b[0mis_user_in_group\u001b[0m\u001b[0;34m(\u001b[0m\u001b[0;34m\"sub_child_user\"\u001b[0m\u001b[0;34m,\u001b[0m \u001b[0;34m\"subchild\"\u001b[0m\u001b[0;34m)\u001b[0m\u001b[0;34m)\u001b[0m\u001b[0;34m\u001b[0m\u001b[0;34m\u001b[0m\u001b[0m\n\u001b[1;32m      8\u001b[0m \u001b[0mprint\u001b[0m\u001b[0;34m(\u001b[0m\u001b[0mis_user_in_group\u001b[0m\u001b[0;34m(\u001b[0m\u001b[0;34m\"sub_child_user\"\u001b[0m\u001b[0;34m,\u001b[0m \u001b[0msubchildren\u001b[0m\u001b[0;34m)\u001b[0m\u001b[0;34m)\u001b[0m\u001b[0;34m\u001b[0m\u001b[0;34m\u001b[0m\u001b[0m\n",
      "\u001b[0;31mNameError\u001b[0m: name 's_user_in_group' is not defined"
     ]
    }
   ],
   "source": [
    "# Edge Cases:\n",
    "print(is_user_in_group(\"sub_child_user\", sub_child))\n",
    "print(is_user_in_group(\"Adam\", sub_child))\n",
    "\n",
    "# edge test cases\n",
    "print(is_user_in_group(\"\", sub_child))\n",
    "print(is_user_in_group(\"sub_child_user\", \"subchild\"))\n",
    "print(is_user_in_group(\"sub_child_user\", subchildren))"
   ]
  },
  {
   "cell_type": "code",
   "execution_count": null,
   "metadata": {},
   "outputs": [],
   "source": []
  }
 ],
 "metadata": {
  "kernelspec": {
   "display_name": "Python 3",
   "language": "python",
   "name": "python3"
  },
  "language_info": {
   "codemirror_mode": {
    "name": "ipython",
    "version": 3
   },
   "file_extension": ".py",
   "mimetype": "text/x-python",
   "name": "python",
   "nbconvert_exporter": "python",
   "pygments_lexer": "ipython3",
   "version": "3.8.5"
  }
 },
 "nbformat": 4,
 "nbformat_minor": 4
}
