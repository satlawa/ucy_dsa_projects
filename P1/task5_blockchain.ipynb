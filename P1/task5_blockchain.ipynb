{
 "cells": [
  {
   "cell_type": "code",
   "execution_count": null,
   "metadata": {},
   "outputs": [],
   "source": []
  },
  {
   "cell_type": "markdown",
   "metadata": {},
   "source": [
    "## Task 5 - Blockchain\n",
    "\n",
    "A Blockchain is a sequential chain of records, similar to a linked list. Each block contains some information and how it is connected related to the other blocks in the chain. Each block contains a cryptographic hash of the previous block, a timestamp, and transaction data. For our blockchain we will be using a SHA-256 hash, the Greenwich Mean Time when the block was created, and text strings as the data.\n",
    "\n",
    "Use your knowledge of linked lists and hashing to create a blockchain implementation."
   ]
  },
  {
   "cell_type": "markdown",
   "metadata": {},
   "source": [
    "We can break the blockchain down into three main parts.\n",
    "\n",
    "First is the information hash:"
   ]
  },
  {
   "cell_type": "code",
   "execution_count": null,
   "metadata": {},
   "outputs": [],
   "source": [
    "import hashlib\n",
    "\n",
    "def calc_hash(self):\n",
    "    sha = hashlib.sha256()\n",
    "    \n",
    "    hash_str = \"We are going to encode this string of data!\".encode('utf-8')\n",
    "    \n",
    "    sha.update(hash_str)\n",
    "    \n",
    "    return sha.hexdigest()"
   ]
  },
  {
   "cell_type": "markdown",
   "metadata": {},
   "source": [
    "We do this for the information we want to store in the block chain such as transaction time, data, and information like the previous chain.\n",
    "\n",
    "The next main component is the block on the blockchain:"
   ]
  },
  {
   "cell_type": "code",
   "execution_count": null,
   "metadata": {},
   "outputs": [],
   "source": [
    "class Block:\n",
    "\n",
    "    def __init__(self, timestamp, data, previous_hash):\n",
    "        self.timestamp = timestamp\n",
    "        self.data = data\n",
    "        self.previous_hash = previous_hash\n",
    "        self.hash = self.calc_hash()\n"
   ]
  },
  {
   "cell_type": "markdown",
   "metadata": {},
   "source": [
    "Above is an example of attributes you could find in a Block class.\n",
    "\n",
    "Finally you need to link all of this together in a block chain, which you will be doing by implementing it in a linked list. All of this will help you build up to a simple but full blockchain implementation! "
   ]
  },
  {
   "cell_type": "code",
   "execution_count": 18,
   "metadata": {},
   "outputs": [],
   "source": [
    "#------------------------------------------------------#\n",
    "#   problem 5 - Blockchain\n",
    "#------------------------------------------------------#\n",
    "\n",
    "# imports\n",
    "import datetime\n",
    "import hashlib\n",
    "\n",
    "\n",
    "class Block:\n",
    "\n",
    "    def __init__(self, timestamp, data, previous_hash=None):\n",
    "        \"\"\" Initialize Block \"\"\"\n",
    "        self.timestamp = timestamp\n",
    "        self.data = data\n",
    "        self.previous_hash = previous_hash\n",
    "        self.hash = self.calc_hash()\n",
    "\n",
    "\n",
    "    def __repr__(self):\n",
    "        \"\"\" Standard representation of the Block as a string \"\"\"\n",
    "        return \"Block info: \\n   data: {} \\n   timestamp: {} \\n   hash: {}\".format(self.data, self.timestamp, self.hash)\n",
    "\n",
    "\n",
    "    def calc_hash(self):\n",
    "        \"\"\" Calculate hash for this Block \"\"\"\n",
    "        sha = hashlib.sha256()\n",
    "        hash_str = str(self.timestamp) + str(self.data) + str(self.previous_hash)\n",
    "        sha.update(hash_str.encode('utf-8'))\n",
    "        return sha.hexdigest()\n",
    "\n",
    "\n",
    "class BlockChain:\n",
    "\n",
    "    def __init__(self):\n",
    "        \"\"\" Initialize BlockChain \"\"\"\n",
    "        self.tail = None\n",
    "        self.length = 0\n",
    "\n",
    "\n",
    "    def append(self, data):\n",
    "        \"\"\" Add new Block-node to the BlockChain \"\"\"\n",
    "\n",
    "        # if input argument is not of type string\n",
    "        if not isinstance(data, str):\n",
    "            print(\"Type error: argument must be of type string\")\n",
    "            return\n",
    "        # if input argument is an empty string\n",
    "        if len(data) == 0:\n",
    "            print(\"Value error: argument must be at least one character long\")\n",
    "            return\n",
    "\n",
    "        # if the new Block is the root Block previous_hash is set to None\n",
    "        if self.tail is None:\n",
    "            self.tail = Block(timestamp = datetime.datetime.utcnow(), \\\n",
    "                              data = data, previous_hash = None)\n",
    "        # else previous_hash is set to the previous Block\n",
    "        else:\n",
    "            self.tail = Block(timestamp=datetime.datetime.utcnow(), \\\n",
    "                              data = data, previous_hash = self.tail)\n",
    "        self.length += 1\n",
    "\n",
    "\n",
    "    def search(self, data):\n",
    "        \"\"\" Search the BlockChain for a node with the requested data and return the node \"\"\"\n",
    "        if self.tail is None:\n",
    "            return None\n",
    "\n",
    "        node = self.tail\n",
    "        while node:\n",
    "            if node.data == data:\n",
    "                return node\n",
    "            node = node.previous_hash\n",
    "\n",
    "        raise ValueError(\"Value not found in the list.\")\n",
    "\n",
    "\n",
    "    def size(self):\n",
    "        \"\"\" Return the size or length of the BlockChain \"\"\"\n",
    "        return self.length\n",
    "\n",
    "\n",
    "    def to_list(self):\n",
    "        \"\"\" Convert the BlockChain into a Python list \"\"\"\n",
    "        out = []\n",
    "        node = self.tail\n",
    "        while node:\n",
    "            out.append([node.timestamp, node.data, node.hash])\n",
    "            node = node.previous_hash\n",
    "        return out\n",
    "\n",
    "\n",
    "# standard test cases\n"
   ]
  },
  {
   "cell_type": "code",
   "execution_count": 26,
   "metadata": {},
   "outputs": [
    {
     "name": "stdout",
     "output_type": "stream",
     "text": [
      "Block info: \n",
      "   data: Transaction from card number: 30084290103, amount: 40$, balance: 440$ \n",
      "   timestamp: 2020-12-26 10:52:23.908411 \n",
      "   hash: 8f8b3f51fbd055163bd09bb82a0262a17a37857e4411f0a1170d42e708cdfd7c\n",
      "Block info: \n",
      "   data: Transaction from bank account: 45557559, amount: 10000$, balance: 10440$ \n",
      "   timestamp: 2020-12-26 10:52:23.908791 \n",
      "   hash: ec02a1dafbacc51a8a179add3334580bea074150c0706898ad364fb22d36f5a2\n",
      "Block info: \n",
      "   data: Transaction to card number: 30084290103, amount: 440$, balance: 10000$ \n",
      "   timestamp: 2020-12-26 10:52:23.909120 \n",
      "   hash: d445e514b000d2281e2bf3e587837a72daeaddfd477b65797a9fe0f23cc56bbc\n",
      "Value error: argument must be at least one character long\n",
      "Block info: \n",
      "   data: Transaction to card number: 30084290103, amount: 440$, balance: 10000$ \n",
      "   timestamp: 2020-12-26 10:52:23.909120 \n",
      "   hash: d445e514b000d2281e2bf3e587837a72daeaddfd477b65797a9fe0f23cc56bbc\n",
      "Type error: argument must be of type string\n",
      "Block info: \n",
      "   data: Transaction to card number: 30084290103, amount: 440$, balance: 10000$ \n",
      "   timestamp: 2020-12-26 10:52:23.909120 \n",
      "   hash: d445e514b000d2281e2bf3e587837a72daeaddfd477b65797a9fe0f23cc56bbc\n"
     ]
    }
   ],
   "source": [
    "# standard test cases\n",
    "bc = BlockChain()\n",
    "bc.append(\"Transaction from card number: 30084290103, amount: 40$, balance: 440$\")\n",
    "print(bc.tail)\n",
    "bc.append(\"Transaction from bank account: 45557559, amount: 10000$, balance: 10440$\")\n",
    "print(bc.tail)\n",
    "bc.append(\"Transaction to card number: 30084290103, amount: 440$, balance: 10000$\")\n",
    "print(bc.tail)\n",
    "\n",
    "# edge test cases\n",
    "bc.append(\"\")\n",
    "print(bc.tail)\n",
    "bc.append(4000)\n",
    "print(bc.tail)"
   ]
  },
  {
   "cell_type": "code",
   "execution_count": 20,
   "metadata": {},
   "outputs": [
    {
     "data": {
      "text/plain": [
       "3"
      ]
     },
     "execution_count": 20,
     "metadata": {},
     "output_type": "execute_result"
    }
   ],
   "source": [
    "bc.size()"
   ]
  },
  {
   "cell_type": "code",
   "execution_count": 21,
   "metadata": {},
   "outputs": [
    {
     "data": {
      "text/plain": [
       "[[datetime.datetime(2020, 12, 26, 10, 38, 58, 657133),\n",
       "  'just my credit card number: 30084290103',\n",
       "  'd658f3ccb063c190223e9896d684016d8f2c8d1d3c4570edb0af249d7ac7364c'],\n",
       " [datetime.datetime(2020, 12, 26, 10, 38, 58, 656951),\n",
       "  'Next message with very important information',\n",
       "  '5d9cfac5fecdc9bcbdd34aeb5d1e5836490863631e63a8778f74892f9cc5f413'],\n",
       " [datetime.datetime(2020, 12, 26, 10, 38, 58, 656744),\n",
       "  'This first message is hashed',\n",
       "  '78a7d7d473b0e7fa739a06b77caf578c3d28e932a7c2a339ef3f26ac45fd05bb']]"
      ]
     },
     "execution_count": 21,
     "metadata": {},
     "output_type": "execute_result"
    }
   ],
   "source": [
    "bc.to_list()"
   ]
  },
  {
   "cell_type": "code",
   "execution_count": 22,
   "metadata": {},
   "outputs": [
    {
     "data": {
      "text/plain": [
       "Block info: \n",
       "   data: Next message with very important information \n",
       "   timestamp: 2020-12-26 10:38:58.656951 \n",
       "   hash: 5d9cfac5fecdc9bcbdd34aeb5d1e5836490863631e63a8778f74892f9cc5f413"
      ]
     },
     "execution_count": 22,
     "metadata": {},
     "output_type": "execute_result"
    }
   ],
   "source": [
    "bc.search('Next message with very important information')"
   ]
  },
  {
   "cell_type": "code",
   "execution_count": 24,
   "metadata": {},
   "outputs": [
    {
     "name": "stdout",
     "output_type": "stream",
     "text": [
      "Type error: argument must be of type string\n"
     ]
    }
   ],
   "source": [
    "bc.append(1000)"
   ]
  },
  {
   "cell_type": "code",
   "execution_count": 25,
   "metadata": {},
   "outputs": [
    {
     "name": "stdout",
     "output_type": "stream",
     "text": [
      "Value error: argument must be at least one character long\n"
     ]
    }
   ],
   "source": [
    "bc.append(\"\")"
   ]
  },
  {
   "cell_type": "code",
   "execution_count": null,
   "metadata": {},
   "outputs": [],
   "source": []
  },
  {
   "cell_type": "code",
   "execution_count": 1,
   "metadata": {},
   "outputs": [],
   "source": [
    "import hashlib\n",
    "\n",
    "class Block:\n",
    "\n",
    "    def __init__(self, timestamp, data, previous_hash=None):\n",
    "        self.timestamp = timestamp\n",
    "        self.data = data\n",
    "        self.previous_hash = previous_hash\n",
    "        self.hash = self.calc_hash()\n",
    "        \n",
    "    def __repr__(self):\n",
    "        return 'Block info: \\n   data: {self.data} \\n   timestamp: {self.timestamp} \\n   hash: {self.hash}'#.format(self.data, self.timestamp, self.hash)\n",
    "\n",
    "    def calc_hash(self):\n",
    "        sha = hashlib.sha256()\n",
    "        hash_str = str(self.timestamp) + str(self.data) + str(self.previous_hash)\n",
    "        sha.update(hash_str.encode('utf-8'))\n",
    "        return sha.hexdigest()\n",
    "    "
   ]
  },
  {
   "cell_type": "code",
   "execution_count": 2,
   "metadata": {},
   "outputs": [],
   "source": [
    "import datetime\n",
    "\n",
    "class BlockChain:\n",
    "    \n",
    "    def __init__(self):\n",
    "        self.tail = None\n",
    "        \n",
    "    #---------------------------------------------------# \n",
    "    \n",
    "    def append(self, data):\n",
    "        \n",
    "        if self.tail is None:\n",
    "            self.tail = Block(timestamp=datetime.datetime.utcnow(), data=data, previous_hash=None)\n",
    "\n",
    "        else:\n",
    "            self.tail = Block(timestamp=datetime.datetime.utcnow(), data=data, previous_hash=self.tail)\n",
    "        \n",
    "    #----------------------------------------------------#\n",
    "    \n",
    "    def search(self, value):\n",
    "        \"\"\" Search the linked list for a node with the requested value and return the node. \"\"\"\n",
    "        if self.head is None:\n",
    "            return None\n",
    "\n",
    "        node = self.head\n",
    "        while node:\n",
    "            if node.value == value:\n",
    "                return node\n",
    "            node = node.next\n",
    "\n",
    "        raise ValueError(\"Value not found in the list.\")\n",
    "\n",
    "    #----------------------------------------------------#\n",
    "    \n",
    "    def remove(self, value):\n",
    "        \"\"\" Delete the first node with the desired data. \"\"\"\n",
    "        if self.head is None:\n",
    "            return\n",
    "\n",
    "        if self.head.value == value:\n",
    "            self.head = self.head.next\n",
    "            return\n",
    "\n",
    "        node = self.head\n",
    "        while node.next:\n",
    "            if node.next.value == value:\n",
    "                node.next = node.next.next\n",
    "                return\n",
    "            node = node.next\n",
    "\n",
    "        raise ValueError(\"Value not found in the list.\")\n",
    "\n",
    "    #----------------------------------------------------#\n",
    "\n",
    "    def size(self):\n",
    "        \"\"\" Return the size or length of the linked list. \"\"\"\n",
    "        size = 0\n",
    "        node = self.tail\n",
    "        while node:\n",
    "            size += 1\n",
    "            node = node.previous_hash\n",
    "\n",
    "        return size\n",
    "    #----------------------------------------------------#\n",
    "\n",
    "    def to_list(self):\n",
    "        out = []\n",
    "        node = self.tail\n",
    "        while node:\n",
    "            out.append([node.timestamp, node.data, node.hash])\n",
    "            node = node.previous_hash\n",
    "        return out\n",
    "\n"
   ]
  },
  {
   "cell_type": "code",
   "execution_count": 3,
   "metadata": {},
   "outputs": [],
   "source": [
    "bc = BlockChain()"
   ]
  },
  {
   "cell_type": "code",
   "execution_count": 4,
   "metadata": {},
   "outputs": [],
   "source": [
    "bc.append('This first message is hashed')\n",
    "bc.append('Next message with very important information')\n",
    "bc.append('just my credit card number: 30084290103')"
   ]
  },
  {
   "cell_type": "code",
   "execution_count": 5,
   "metadata": {},
   "outputs": [
    {
     "data": {
      "text/plain": [
       "3"
      ]
     },
     "execution_count": 5,
     "metadata": {},
     "output_type": "execute_result"
    }
   ],
   "source": [
    "bc.size()"
   ]
  },
  {
   "cell_type": "code",
   "execution_count": 6,
   "metadata": {},
   "outputs": [
    {
     "data": {
      "text/plain": [
       "[[datetime.datetime(2020, 12, 26, 9, 56, 8, 836254),\n",
       "  'just my credit card number: 30084290103',\n",
       "  'c856ae68d9bea1bc6e58e65a61cfec0c8eee541b0501ac623d1f77fff0d6480b'],\n",
       " [datetime.datetime(2020, 12, 26, 9, 56, 8, 836215),\n",
       "  'Next message with very important information',\n",
       "  'd3c1a8f1e3ad5ec1acad8fa1959d1e9dcae64a675ebcc66046420b3b347e879e'],\n",
       " [datetime.datetime(2020, 12, 26, 9, 56, 8, 836166),\n",
       "  'This first message is hashed',\n",
       "  'b7034055d863b4fe557974ce88ae834e2ef2123736f18a967715c9ddc987d602']]"
      ]
     },
     "execution_count": 6,
     "metadata": {},
     "output_type": "execute_result"
    }
   ],
   "source": [
    "bc.to_list()"
   ]
  },
  {
   "cell_type": "code",
   "execution_count": 22,
   "metadata": {},
   "outputs": [
    {
     "data": {
      "text/plain": [
       "Block info: \n",
       "   data: code \n",
       "   timestamp: 06.06.2020 \n",
       "   hash: 5694d08a2e53ffcae0c3103e5ad6f6076abd960eb1f8a56577040bc1028f702b"
      ]
     },
     "execution_count": 22,
     "metadata": {},
     "output_type": "execute_result"
    }
   ],
   "source": [
    "b"
   ]
  },
  {
   "cell_type": "code",
   "execution_count": 1,
   "metadata": {},
   "outputs": [],
   "source": [
    "import time"
   ]
  },
  {
   "cell_type": "code",
   "execution_count": 3,
   "metadata": {},
   "outputs": [
    {
     "data": {
      "text/plain": [
       "1608663084.6182907"
      ]
     },
     "execution_count": 3,
     "metadata": {},
     "output_type": "execute_result"
    }
   ],
   "source": [
    "time.time()"
   ]
  },
  {
   "cell_type": "code",
   "execution_count": 6,
   "metadata": {},
   "outputs": [
    {
     "data": {
      "text/plain": [
       "'a20200a94c75010576e2d6a83e6fa69271901a9d805894b28bd91e6054fbfd10'"
      ]
     },
     "execution_count": 6,
     "metadata": {},
     "output_type": "execute_result"
    }
   ],
   "source": [
    "sha = hashlib.sha256()\n",
    "\n",
    "hash_str = \"We are going to encode this string of data!\".encode('utf-8')\n",
    "\n",
    "sha.update(hash_str)\n",
    "\n",
    "sha.hexdigest()"
   ]
  },
  {
   "cell_type": "code",
   "execution_count": 23,
   "metadata": {},
   "outputs": [],
   "source": [
    "a = \"hallo\""
   ]
  },
  {
   "cell_type": "code",
   "execution_count": 24,
   "metadata": {},
   "outputs": [
    {
     "data": {
      "text/plain": [
       "'hallo'"
      ]
     },
     "execution_count": 24,
     "metadata": {},
     "output_type": "execute_result"
    }
   ],
   "source": [
    "str(a)"
   ]
  },
  {
   "cell_type": "code",
   "execution_count": null,
   "metadata": {},
   "outputs": [],
   "source": []
  }
 ],
 "metadata": {
  "kernelspec": {
   "display_name": "Python 3",
   "language": "python",
   "name": "python3"
  },
  "language_info": {
   "codemirror_mode": {
    "name": "ipython",
    "version": 3
   },
   "file_extension": ".py",
   "mimetype": "text/x-python",
   "name": "python",
   "nbconvert_exporter": "python",
   "pygments_lexer": "ipython3",
   "version": "3.8.5"
  }
 },
 "nbformat": 4,
 "nbformat_minor": 4
}
