{
 "cells": [
  {
   "cell_type": "code",
   "execution_count": null,
   "metadata": {},
   "outputs": [],
   "source": []
  },
  {
   "cell_type": "markdown",
   "metadata": {},
   "source": [
    "## Task 3 - Overview - Data Compression\n",
    "\n",
    "In general, a data compression algorithm reduces the amount of memory (bits) required to represent a message (data). The compressed data, in turn, helps to reduce the transmission time from a sender to receiver. The sender encodes the data, and the receiver decodes the encoded data. As part of this problem, you have to implement the logic for both encoding and decoding.\n",
    "\n",
    "A data compression algorithm could be either *lossy* or *lossless*, meaning that when compressing the data, there is a loss (lossy) or no loss (lossless) of information. The **Huffman Coding** is a lossless data compression algorithm. Let us understand the two phases - encoding and decoding with the help of an example.\n",
    "A. Huffman Encoding\n",
    "\n",
    "Assume that we have a string message AAAAAAABBBCCCCCCCDDEEEEEE comprising of 25 characters to be encoded. The string message can be an unsorted one as well. We will have two phases in encoding - building the Huffman tree (a binary tree), and generating the encoded data. The following steps illustrate the Huffman encoding:\n",
    "Phase I - Build the Huffman Tree\n",
    "\n",
    "### A Huffman tree is built in a bottom-up approach.\n",
    "\n",
    "First, determine the frequency of each character in the message. In our example, the following table presents the frequency of each character.\n",
    "\n",
    "(Unique) Character \tFrequency\n",
    "A \t7\n",
    "B \t3\n",
    "C \t7\n",
    "D \t2\n",
    "E \t6\n",
    "\n",
    "Each row in the table above can be represented as a node having a character, frequency, left child, and right child. In the next step, we will repeatedly require to pop-out the node having the lowest frequency. Therefore, build and sort a list of nodes in the order lowest to highest frequencies. Remember that a list preserves the order of elements in which they are appended.\n",
    "\n",
    "We would need our list to work as a priority queue, where a node that has lower frequency should have a higher priority to be popped-out. The following snapshot will help you visualize the example considered above:\n",
    "\n",
    "Can you come up with other data structures to create a priority queue? How about using a min-heap instead of a list? You are free to choose from anyone.\n",
    "\n",
    "Pop-out two nodes with the minimum frequency from the priority queue created in the above step.\n",
    "\n",
    "Create a new node with a frequency equal to the sum of the two nodes picked in the above step. This new node would become an internal node in the Huffman tree, and the two nodes would become the children. The lower frequency node becomes a left child, and the higher frequency node becomes the right child. Reinsert the newly created node back into the priority queue.\n",
    "\n",
    "Do you think that this reinsertion requires the sorting of priority queue again? If yes, then a min-heap could be a better choice due to the lower complexity of sorting the elements, every time there is an insertion.\n",
    "\n",
    "Repeat steps #3 and #4 until there is a single element left in the priority queue. The snapshots below present the building of a Huffman tree.\n",
    "\n",
    "For each node, in the Huffman tree, assign a bit 0 for left child and a 1 for right child. See the final Huffman tree for our example:\n",
    "\n",
    "Phase II - Generate the Encoded Data\n",
    "\n",
    "Based on the Huffman tree, generate unique binary code for each character of our string message. For this purpose, you'd have to traverse the path from root to the leaf node.\n",
    "\n",
    "(Unique) Character \tFrequency \tHuffman Code\n",
    "D \t2 \t000\n",
    "B \t3 \t001\n",
    "E \t6 \t01\n",
    "A \t7 \t10\n",
    "C \t7 \t11\n",
    "\n",
    "    Points to Notice\n",
    "\n",
    "        Notice that the whole code for any character is not a prefix of any other code. Hence, the Huffman code is called a Prefix code.\n",
    "        Notice that the binary code is shorter for the more frequent character, and vice-versa.\n",
    "        The Huffman code is generated in such a way that the entire string message would now require a much lesser amount of memory in binary form.\n",
    "        Notice that each node present in the original priority queue has become a leaf node in the final Huffman tree.\n",
    "\n",
    "This way, our encoded data would be 1010101010101000100100111111111111111000000010101010101\n",
    "\n",
    "### B. Huffman Decoding\n",
    "\n",
    "Once we have the encoded data, and the (pointer to the root of) Huffman tree, we can easily decode the encoded data using the following steps:\n",
    "\n",
    "    Declare a blank decoded string\n",
    "    Pick a bit from the encoded data, traversing from left to right.\n",
    "    Start traversing the Huffman tree from the root.\n",
    "        If the current bit of encoded data is 0, move to the left child, else move to the right child of the tree if the current bit is 1.\n",
    "        If a leaf node is encountered, append the (alphabetical) character of the leaf node to the decoded string.\n",
    "    Repeat steps #2 and #3 until the encoded data is completely traversed.\n",
    "\n",
    "You will have to implement the logic for both encoding and decoding in the following template. Also, "
   ]
  },
  {
   "cell_type": "code",
   "execution_count": 1,
   "metadata": {},
   "outputs": [
    {
     "name": "stdout",
     "output_type": "stream",
     "text": [
      "The size of the data is: 69\n",
      "\n",
      "The content of the data is: The bird is the word\n",
      "\n"
     ]
    },
    {
     "ename": "TypeError",
     "evalue": "cannot unpack non-iterable NoneType object",
     "output_type": "error",
     "traceback": [
      "\u001b[0;31m---------------------------------------------------------------------------\u001b[0m",
      "\u001b[0;31mTypeError\u001b[0m                                 Traceback (most recent call last)",
      "\u001b[0;32m<ipython-input-1-80c4c6b6b94f>\u001b[0m in \u001b[0;36m<module>\u001b[0;34m\u001b[0m\n\u001b[1;32m     22\u001b[0m     \u001b[0mprint\u001b[0m \u001b[0;34m(\u001b[0m\u001b[0;34m\"The content of the data is: {}\\n\"\u001b[0m\u001b[0;34m.\u001b[0m\u001b[0mformat\u001b[0m\u001b[0;34m(\u001b[0m\u001b[0ma_great_sentence\u001b[0m\u001b[0;34m)\u001b[0m\u001b[0;34m)\u001b[0m\u001b[0;34m\u001b[0m\u001b[0;34m\u001b[0m\u001b[0m\n\u001b[1;32m     23\u001b[0m \u001b[0;34m\u001b[0m\u001b[0m\n\u001b[0;32m---> 24\u001b[0;31m     \u001b[0mencoded_data\u001b[0m\u001b[0;34m,\u001b[0m \u001b[0mtree\u001b[0m \u001b[0;34m=\u001b[0m \u001b[0mhuffman_encoding\u001b[0m\u001b[0;34m(\u001b[0m\u001b[0ma_great_sentence\u001b[0m\u001b[0;34m)\u001b[0m\u001b[0;34m\u001b[0m\u001b[0;34m\u001b[0m\u001b[0m\n\u001b[0m\u001b[1;32m     25\u001b[0m \u001b[0;34m\u001b[0m\u001b[0m\n\u001b[1;32m     26\u001b[0m     \u001b[0mprint\u001b[0m \u001b[0;34m(\u001b[0m\u001b[0;34m\"The size of the encoded data is: {}\\n\"\u001b[0m\u001b[0;34m.\u001b[0m\u001b[0mformat\u001b[0m\u001b[0;34m(\u001b[0m\u001b[0msys\u001b[0m\u001b[0;34m.\u001b[0m\u001b[0mgetsizeof\u001b[0m\u001b[0;34m(\u001b[0m\u001b[0mint\u001b[0m\u001b[0;34m(\u001b[0m\u001b[0mencoded_data\u001b[0m\u001b[0;34m,\u001b[0m \u001b[0mbase\u001b[0m\u001b[0;34m=\u001b[0m\u001b[0;36m2\u001b[0m\u001b[0;34m)\u001b[0m\u001b[0;34m)\u001b[0m\u001b[0;34m)\u001b[0m\u001b[0;34m)\u001b[0m\u001b[0;34m\u001b[0m\u001b[0;34m\u001b[0m\u001b[0m\n",
      "\u001b[0;31mTypeError\u001b[0m: cannot unpack non-iterable NoneType object"
     ]
    }
   ],
   "source": [
    "import sys\n",
    "\n",
    "# get char and count frequency\n",
    "\n",
    "# node char and count frequency sorted lowest and highest fequency\n",
    "\n",
    "# loop - pop 2 least frquency \n",
    "#    -> merge to internal Node (sum of frequencies) child nodes \n",
    "\n",
    "def huffman_encoding(data):\n",
    "    pass\n",
    "\n",
    "def huffman_decoding(data,tree):\n",
    "    pass\n",
    "\n",
    "if __name__ == \"__main__\":\n",
    "    codes = {}\n",
    "\n",
    "    a_great_sentence = \"The bird is the word\"\n",
    "\n",
    "    print (\"The size of the data is: {}\\n\".format(sys.getsizeof(a_great_sentence)))\n",
    "    print (\"The content of the data is: {}\\n\".format(a_great_sentence))\n",
    "\n",
    "    encoded_data, tree = huffman_encoding(a_great_sentence)\n",
    "\n",
    "    print (\"The size of the encoded data is: {}\\n\".format(sys.getsizeof(int(encoded_data, base=2))))\n",
    "    print (\"The content of the encoded data is: {}\\n\".format(encoded_data))\n",
    "\n",
    "    decoded_data = huffman_decoding(encoded_data, tree)\n",
    "\n",
    "    print (\"The size of the decoded data is: {}\\n\".format(sys.getsizeof(decoded_data)))\n",
    "    print (\"The content of the encoded data is: {}\\n\".format(decoded_data))\n"
   ]
  },
  {
   "cell_type": "code",
   "execution_count": 110,
   "metadata": {},
   "outputs": [],
   "source": [
    "# this code makes the tree that we'll traverse\n",
    "\n",
    "import sys\n",
    "\n",
    "class Node(object):\n",
    "        \n",
    "    def __init__(self,char = None, freq = None, left = None, right = None, code = None):\n",
    "        self.char = char\n",
    "        self.freq = freq\n",
    "        self.left = left\n",
    "        self.right = right\n",
    "        self.code = code\n",
    "    \n",
    "    # define __repr_ to decide what a print statement displays for a Node object\n",
    "    def __repr__(self):\n",
    "        return f\"Node(char: {self.char} freq: {self.freq} code: {self.code} \\n left: {self.left} \\n right: {self.right})\"\n",
    "        \n",
    "\n",
    "def count_char(string):\n",
    "    \"\"\"\n",
    "    Return a dictinary with the count of unique characters in a string \n",
    "    \n",
    "    Args:\n",
    "        string(str)\n",
    "    Return:\n",
    "        dictionary with keys = unique characters from the input string\n",
    "                        values = count of the character in the string\n",
    "    \"\"\"\n",
    "    \n",
    "    char_freq = {}\n",
    "    \n",
    "    for char in string: \n",
    "        if char in char_freq: \n",
    "            char_freq[char] += 1\n",
    "        else: \n",
    "            char_freq[char] = 1\n",
    "            \n",
    "    return char_freq\n",
    "\n",
    "\n",
    "## merge nodes\n",
    "def merge_nodes(pqueue):\n",
    "    \"\"\"\n",
    "    Merge the two Nodes whith the lowest frequency from the priority queue\n",
    "    and add the merged Node back to the priority queue\n",
    "    \n",
    "    Args:\n",
    "        pqueue(list)\n",
    "    Return:\n",
    "        priority queue (list) with the merged merged Node\n",
    "    \"\"\"\n",
    "    # pop 2 nodes from priority queue\n",
    "    freq_1, node_1 = pqueue.pop()\n",
    "    freq_2, node_2 = pqueue.pop()\n",
    "    # create internal merged node with the sum of frequencies\n",
    "    merged_node = Node(freq = freq_1 + freq_2, left = node_1, right = node_2)\n",
    "    # add merged node back to pqueue\n",
    "    pqueue.append((merged_node.freq, merged_node))\n",
    "    pqueue = sorted(pqueue, key=lambda x: x[0], reverse=True)\n",
    "    return pqueue\n",
    "\n",
    "    \n",
    "## add 0|1 code\n",
    "def add_code(node):\n",
    "    \"\"\"\n",
    "    Add binary code to all nodes. 0s to left children nodes and\n",
    "    1s to right children nodes.\n",
    "    \n",
    "    Args:\n",
    "        node(Node)\n",
    "    Return:\n",
    "        node (Node) with the added binary code\n",
    "    \"\"\"\n",
    "    # base case\n",
    "    if node.left == None and node.right == None:\n",
    "        return node\n",
    "    # if left child, add code, call function recursivley\n",
    "    if node.left is not None:\n",
    "        # add '0' for encoding\n",
    "        if node.code is None:\n",
    "            node.left.code = '0'\n",
    "        else:\n",
    "            node.left.code = node.code + '0'\n",
    "        # add 0 for decoding\n",
    "        node.left.freq = 0\n",
    "        node.left = add_code(node.left)\n",
    "    # if right child, add code, call function recursivley\n",
    "    if node.right is not None:\n",
    "        # add '1' for encoding\n",
    "        if node.code is None:\n",
    "            node.right.code = '1'\n",
    "        else:\n",
    "            node.right.code = node.code + '1'\n",
    "        # add 1 for decoding\n",
    "        node.right.freq = 1\n",
    "        # call function recursivley\n",
    "        node.right = add_code(node.right)\n",
    "    return node\n",
    "\n",
    "\n",
    "def retrieve_code_from_tree(node, dic):\n",
    "    \"\"\"\n",
    "    Retrieve binary encoding from Huffman tree \n",
    "    \n",
    "    Args:\n",
    "        node(Node)\n",
    "        dic(dict): empty binary encoding dictionary\n",
    "    Return:\n",
    "        dic(dict): filled binary encoding dictionary\n",
    "    \"\"\"\n",
    "    if node.left == None and node.right == None:\n",
    "        dic[node.char] = node.code\n",
    "        return dic\n",
    "    if node.left is not None:\n",
    "        retrieve_code_from_tree(node.left, dic)\n",
    "    if node.right is not None:\n",
    "        retrieve_code_from_tree(node.right, dic)\n",
    "    return dic\n",
    "\n",
    "\n",
    "def create_encoder(tree):\n",
    "    \"\"\"\n",
    "    Creates the dictionary for the encoding of data\n",
    "    \n",
    "    Args:\n",
    "        tree(Node): the root node of the Huffman tree\n",
    "    Return:\n",
    "        encode_dict(dict): encoding dictionary\n",
    "        tree(Node): the root node of the Huffman tree\n",
    "    \"\"\"\n",
    "    # if tree has no children we create a left child\n",
    "    if tree.left == None:\n",
    "        tree.left = Node(char = tree.char, freq = 0, left = None, right = None, code = '0')\n",
    "    \n",
    "    # create encoding dictionary\n",
    "    encode_dict = dict()\n",
    "    \n",
    "    # get dictionary with the encoding for each character\n",
    "    encode_dict = retrieve_code_from_tree(tree, encode_dict)\n",
    "    \n",
    "    return encode_dict, tree\n",
    "\n",
    "        \n",
    "def huffman_encoding(data):\n",
    "    \"\"\"\n",
    "    Using Huffman encoding to compress the input data\n",
    "    \n",
    "    Args:\n",
    "        data(str)\n",
    "    Return:\n",
    "        encoded data (str) and the tree for decoding (Tree)\n",
    "    \"\"\"\n",
    "    \n",
    "    if data == \"\":\n",
    "        print(\"Value error: Please enter a non empty string\")\n",
    "        return None, None\n",
    "\n",
    "    # get dict with each characters frequency\n",
    "    char_freq = count_char(data)\n",
    "    \n",
    "    # create a priority queue out of the dictionary\n",
    "    pqueue = list()\n",
    "    for key, value in char_freq.items():\n",
    "        node = Node(char=key, freq=value)\n",
    "        pqueue.append((node.freq, node))\n",
    "        pqueue = sorted(pqueue, key=lambda x: x[0], reverse=True)\n",
    "    \n",
    "    # merge 2 nodes until there is just one node left\n",
    "    while len(pqueue) > 1:\n",
    "        pqueue = merge_nodes(pqueue)\n",
    "    \n",
    "    # add binary code to nodes\n",
    "    tree = add_code(pqueue[0][1])\n",
    "    \n",
    "    # create encoder dictonary\n",
    "    encode_dict, tree = create_encoder(tree)\n",
    "    \n",
    "    # encode data with Huffman \n",
    "    encoded_data = \"\"\n",
    "    for char in data:\n",
    "        encoded_data += encode_dict[char]\n",
    "        \n",
    "    return encoded_data, tree\n",
    "\n",
    "\n",
    "def huffman_decoding(data, tree):\n",
    "    \"\"\"\n",
    "    Using Huffman decoding to retrieve the original data from the compressed data\n",
    "    \n",
    "    Args:\n",
    "        data(str)\n",
    "        tree(Tree)\n",
    "    Return:\n",
    "        decoded data (str)\n",
    "    \"\"\"\n",
    "    \n",
    "    # decode\n",
    "    decoded_data = \"\"\n",
    "    i = 0\n",
    "    current_node = tree\n",
    "\n",
    "    # loop until the the encoded data ends\n",
    "    for i in range(len(data)):\n",
    "        # get item in index\n",
    "        item = data[i]\n",
    "        # if item is 0 set current node to LEFT child node\n",
    "        if item == str(current_node.left.freq):\n",
    "            current_node = current_node.left\n",
    "        # if item is 1 set current node to RIGHT child node\n",
    "        elif item == str(current_node.right.freq):\n",
    "            current_node = current_node.right\n",
    "\n",
    "        # if current node is a leaf node convert binary code to character\n",
    "        if current_node.char is not None:\n",
    "            decoded_data += current_node.char\n",
    "            current_node = tree\n",
    "    \n",
    "    return decoded_data\n"
   ]
  },
  {
   "cell_type": "code",
   "execution_count": 111,
   "metadata": {},
   "outputs": [
    {
     "name": "stdout",
     "output_type": "stream",
     "text": [
      "----------------------------------------------------------------------------\n",
      "The size of the data is: 55\n",
      "\n",
      "The content of the data is: xxxxxx\n",
      "\n",
      "[(6, Node(char: x freq: 6 code: None \n",
      " left: None \n",
      " right: None))]\n",
      "Node(char: x freq: 6 code: None \n",
      " left: Node(char: x freq: 0 code: 0 \n",
      " left: None \n",
      " right: None) \n",
      " right: None)\n",
      "---------------------\n",
      "{'x': '0'}\n",
      "The size of the encoded data is: 24\n",
      "\n",
      "The content of the encoded data is: 000000\n",
      "\n",
      "The size of the decoded data is: 55\n",
      "\n",
      "The content of the encoded data is: xxxxxx\n",
      "\n"
     ]
    }
   ],
   "source": [
    "print(\"----------------------------------------------------------------------------\")\n",
    "a_great_sentence = \"xxxxxx\"\n",
    "\n",
    "print (\"The size of the data is: {}\\n\".format(sys.getsizeof(a_great_sentence)))\n",
    "print (\"The content of the data is: {}\\n\".format(a_great_sentence))\n",
    "\n",
    "encoded_data, tree = huffman_encoding(a_great_sentence)\n",
    "\n",
    "print (\"The size of the encoded data is: {}\\n\".format(sys.getsizeof(int(encoded_data, base=2))))\n",
    "print (\"The content of the encoded data is: {}\\n\".format(encoded_data))\n",
    "\n",
    "decoded_data = huffman_decoding(encoded_data, tree)\n",
    "\n",
    "print (\"The size of the decoded data is: {}\\n\".format(sys.getsizeof(decoded_data)))\n",
    "print (\"The content of the encoded data is: {}\\n\".format(decoded_data))\n"
   ]
  },
  {
   "cell_type": "code",
   "execution_count": 105,
   "metadata": {},
   "outputs": [
    {
     "name": "stdout",
     "output_type": "stream",
     "text": [
      "----------------------------------------------------------------------------\n",
      "The size of the data is: 69\n",
      "\n",
      "The content of the data is: The bird is the word\n",
      "\n",
      "[(20, Node(char: None freq: 20 code: None \n",
      " left: Node(char: None freq: 8 code: None \n",
      " left: Node(char: None freq: 4 code: None \n",
      " left: Node(char: e freq: 2 code: None \n",
      " left: None \n",
      " right: None) \n",
      " right: Node(char: h freq: 2 code: None \n",
      " left: None \n",
      " right: None)) \n",
      " right: Node(char: None freq: 4 code: None \n",
      " left: Node(char: r freq: 2 code: None \n",
      " left: None \n",
      " right: None) \n",
      " right: Node(char: i freq: 2 code: None \n",
      " left: None \n",
      " right: None))) \n",
      " right: Node(char: None freq: 12 code: None \n",
      " left: Node(char:   freq: 4 code: None \n",
      " left: None \n",
      " right: None) \n",
      " right: Node(char: None freq: 8 code: None \n",
      " left: Node(char: None freq: 4 code: None \n",
      " left: Node(char: None freq: 2 code: None \n",
      " left: Node(char: o freq: 1 code: None \n",
      " left: None \n",
      " right: None) \n",
      " right: Node(char: w freq: 1 code: None \n",
      " left: None \n",
      " right: None)) \n",
      " right: Node(char: d freq: 2 code: None \n",
      " left: None \n",
      " right: None)) \n",
      " right: Node(char: None freq: 4 code: None \n",
      " left: Node(char: None freq: 2 code: None \n",
      " left: Node(char: b freq: 1 code: None \n",
      " left: None \n",
      " right: None) \n",
      " right: Node(char: T freq: 1 code: None \n",
      " left: None \n",
      " right: None)) \n",
      " right: Node(char: None freq: 2 code: None \n",
      " left: Node(char: t freq: 1 code: None \n",
      " left: None \n",
      " right: None) \n",
      " right: Node(char: s freq: 1 code: None \n",
      " left: None \n",
      " right: None)))))))]\n",
      "Node(char: None freq: 0 code: 0 \n",
      " left: Node(char: None freq: 0 code: 0 \n",
      " left: Node(char: None freq: 0 code: 00 \n",
      " left: Node(char: e freq: 0 code: 000 \n",
      " left: None \n",
      " right: None) \n",
      " right: Node(char: h freq: 1 code: 001 \n",
      " left: None \n",
      " right: None)) \n",
      " right: Node(char: None freq: 1 code: 01 \n",
      " left: Node(char: r freq: 0 code: 010 \n",
      " left: None \n",
      " right: None) \n",
      " right: Node(char: i freq: 1 code: 011 \n",
      " left: None \n",
      " right: None))) \n",
      " right: Node(char: None freq: 1 code: 1 \n",
      " left: Node(char:   freq: 0 code: 10 \n",
      " left: None \n",
      " right: None) \n",
      " right: Node(char: None freq: 1 code: 11 \n",
      " left: Node(char: None freq: 0 code: 110 \n",
      " left: Node(char: None freq: 0 code: 1100 \n",
      " left: Node(char: o freq: 0 code: 11000 \n",
      " left: None \n",
      " right: None) \n",
      " right: Node(char: w freq: 1 code: 11001 \n",
      " left: None \n",
      " right: None)) \n",
      " right: Node(char: d freq: 1 code: 1101 \n",
      " left: None \n",
      " right: None)) \n",
      " right: Node(char: None freq: 1 code: 111 \n",
      " left: Node(char: None freq: 0 code: 1110 \n",
      " left: Node(char: b freq: 0 code: 11100 \n",
      " left: None \n",
      " right: None) \n",
      " right: Node(char: T freq: 1 code: 11101 \n",
      " left: None \n",
      " right: None)) \n",
      " right: Node(char: None freq: 1 code: 1111 \n",
      " left: Node(char: t freq: 0 code: 11110 \n",
      " left: None \n",
      " right: None) \n",
      " right: Node(char: s freq: 1 code: 11111 \n",
      " left: None \n",
      " right: None))))))\n",
      "---------------------\n",
      "{'e': '000', 'h': '001', 'r': '010', 'i': '011', ' ': '10', 'o': '11000', 'w': '11001', 'd': '1101', 'b': '11100', 'T': '11101', 't': '11110', 's': '11111'}\n",
      "The size of the encoded data is: 36\n",
      "\n",
      "The content of the encoded data is: 1110100100010111000110101101100111111110111100010001011001110000101101\n",
      "\n",
      "The size of the decoded data is: 69\n",
      "\n",
      "The content of the encoded data is: The bird is the word\n",
      "\n"
     ]
    }
   ],
   "source": [
    "print(\"----------------------------------------------------------------------------\")\n",
    "a_great_sentence = \"The bird is the word\"\n",
    "\n",
    "print (\"The size of the data is: {}\\n\".format(sys.getsizeof(a_great_sentence)))\n",
    "print (\"The content of the data is: {}\\n\".format(a_great_sentence))\n",
    "\n",
    "encoded_data, tree = huffman_encoding(a_great_sentence)\n",
    "\n",
    "print (\"The size of the encoded data is: {}\\n\".format(sys.getsizeof(int(encoded_data, base=2))))\n",
    "print (\"The content of the encoded data is: {}\\n\".format(encoded_data))\n",
    "\n",
    "decoded_data = huffman_decoding(encoded_data, tree)\n",
    "\n",
    "print (\"The size of the decoded data is: {}\\n\".format(sys.getsizeof(decoded_data)))\n",
    "print (\"The content of the encoded data is: {}\\n\".format(decoded_data))\n"
   ]
  },
  {
   "cell_type": "code",
   "execution_count": 106,
   "metadata": {
    "scrolled": true
   },
   "outputs": [
    {
     "name": "stdout",
     "output_type": "stream",
     "text": [
      "----------------------------------------------------------------------------\n",
      "The size of the data is: 75\n",
      "\n",
      "The content of the data is: Th3 83sT daY 0F mY 1if3!!!\n",
      "\n",
      "[(26, Node(char: None freq: 26 code: None \n",
      " left: Node(char: None freq: 11 code: None \n",
      " left: Node(char:   freq: 5 code: None \n",
      " left: None \n",
      " right: None) \n",
      " right: Node(char: None freq: 6 code: None \n",
      " left: Node(char: None freq: 3 code: None \n",
      " left: Node(char: h freq: 1 code: None \n",
      " left: None \n",
      " right: None) \n",
      " right: Node(char: None freq: 2 code: None \n",
      " left: Node(char: s freq: 1 code: None \n",
      " left: None \n",
      " right: None) \n",
      " right: Node(char: 8 freq: 1 code: None \n",
      " left: None \n",
      " right: None))) \n",
      " right: Node(char: ! freq: 3 code: None \n",
      " left: None \n",
      " right: None))) \n",
      " right: Node(char: None freq: 15 code: None \n",
      " left: Node(char: None freq: 7 code: None \n",
      " left: Node(char: 3 freq: 3 code: None \n",
      " left: None \n",
      " right: None) \n",
      " right: Node(char: None freq: 4 code: None \n",
      " left: Node(char: Y freq: 2 code: None \n",
      " left: None \n",
      " right: None) \n",
      " right: Node(char: T freq: 2 code: None \n",
      " left: None \n",
      " right: None))) \n",
      " right: Node(char: None freq: 8 code: None \n",
      " left: Node(char: None freq: 4 code: None \n",
      " left: Node(char: None freq: 2 code: None \n",
      " left: Node(char: 1 freq: 1 code: None \n",
      " left: None \n",
      " right: None) \n",
      " right: Node(char: m freq: 1 code: None \n",
      " left: None \n",
      " right: None)) \n",
      " right: Node(char: None freq: 2 code: None \n",
      " left: Node(char: f freq: 1 code: None \n",
      " left: None \n",
      " right: None) \n",
      " right: Node(char: i freq: 1 code: None \n",
      " left: None \n",
      " right: None))) \n",
      " right: Node(char: None freq: 4 code: None \n",
      " left: Node(char: None freq: 2 code: None \n",
      " left: Node(char: a freq: 1 code: None \n",
      " left: None \n",
      " right: None) \n",
      " right: Node(char: d freq: 1 code: None \n",
      " left: None \n",
      " right: None)) \n",
      " right: Node(char: None freq: 2 code: None \n",
      " left: Node(char: F freq: 1 code: None \n",
      " left: None \n",
      " right: None) \n",
      " right: Node(char: 0 freq: 1 code: None \n",
      " left: None \n",
      " right: None)))))))]\n",
      "Node(char: None freq: 0 code: 0 \n",
      " left: Node(char: None freq: 0 code: 0 \n",
      " left: Node(char:   freq: 0 code: 00 \n",
      " left: None \n",
      " right: None) \n",
      " right: Node(char: None freq: 1 code: 01 \n",
      " left: Node(char: None freq: 0 code: 010 \n",
      " left: Node(char: h freq: 0 code: 0100 \n",
      " left: None \n",
      " right: None) \n",
      " right: Node(char: None freq: 1 code: 0101 \n",
      " left: Node(char: s freq: 0 code: 01010 \n",
      " left: None \n",
      " right: None) \n",
      " right: Node(char: 8 freq: 1 code: 01011 \n",
      " left: None \n",
      " right: None))) \n",
      " right: Node(char: ! freq: 1 code: 011 \n",
      " left: None \n",
      " right: None))) \n",
      " right: Node(char: None freq: 1 code: 1 \n",
      " left: Node(char: None freq: 0 code: 10 \n",
      " left: Node(char: 3 freq: 0 code: 100 \n",
      " left: None \n",
      " right: None) \n",
      " right: Node(char: None freq: 1 code: 101 \n",
      " left: Node(char: Y freq: 0 code: 1010 \n",
      " left: None \n",
      " right: None) \n",
      " right: Node(char: T freq: 1 code: 1011 \n",
      " left: None \n",
      " right: None))) \n",
      " right: Node(char: None freq: 1 code: 11 \n",
      " left: Node(char: None freq: 0 code: 110 \n",
      " left: Node(char: None freq: 0 code: 1100 \n",
      " left: Node(char: 1 freq: 0 code: 11000 \n",
      " left: None \n",
      " right: None) \n",
      " right: Node(char: m freq: 1 code: 11001 \n",
      " left: None \n",
      " right: None)) \n",
      " right: Node(char: None freq: 1 code: 1101 \n",
      " left: Node(char: f freq: 0 code: 11010 \n",
      " left: None \n",
      " right: None) \n",
      " right: Node(char: i freq: 1 code: 11011 \n",
      " left: None \n",
      " right: None))) \n",
      " right: Node(char: None freq: 1 code: 111 \n",
      " left: Node(char: None freq: 0 code: 1110 \n",
      " left: Node(char: a freq: 0 code: 11100 \n",
      " left: None \n",
      " right: None) \n",
      " right: Node(char: d freq: 1 code: 11101 \n",
      " left: None \n",
      " right: None)) \n",
      " right: Node(char: None freq: 1 code: 1111 \n",
      " left: Node(char: F freq: 0 code: 11110 \n",
      " left: None \n",
      " right: None) \n",
      " right: Node(char: 0 freq: 1 code: 11111 \n",
      " left: None \n",
      " right: None))))))\n",
      "---------------------\n",
      "{' ': '00', 'h': '0100', 's': '01010', '8': '01011', '!': '011', '3': '100', 'Y': '1010', 'T': '1011', '1': '11000', 'm': '11001', 'f': '11010', 'i': '11011', 'a': '11100', 'd': '11101', 'F': '11110', '0': '11111'}\n",
      "The size of the encoded data is: 40\n",
      "\n",
      "The content of the encoded data is: 10110100100000101110001010101100111011110010100011111111100011001101000110001101111010100011011011\n",
      "\n",
      "The size of the decoded data is: 75\n",
      "\n",
      "The content of the encoded data is: Th3 83sT daY 0F mY 1if3!!!\n",
      "\n"
     ]
    }
   ],
   "source": [
    "print(\"----------------------------------------------------------------------------\")\n",
    "a_great_sentence = \"Th3 83sT daY 0F mY 1if3!!!\"\n",
    "\n",
    "print (\"The size of the data is: {}\\n\".format(sys.getsizeof(a_great_sentence)))\n",
    "print (\"The content of the data is: {}\\n\".format(a_great_sentence))\n",
    "\n",
    "encoded_data, tree = huffman_encoding(a_great_sentence)\n",
    "\n",
    "print (\"The size of the encoded data is: {}\\n\".format(sys.getsizeof(int(encoded_data, base=2))))\n",
    "print (\"The content of the encoded data is: {}\\n\".format(encoded_data))\n",
    "\n",
    "decoded_data = huffman_decoding(encoded_data, tree)\n",
    "\n",
    "print (\"The size of the decoded data is: {}\\n\".format(sys.getsizeof(decoded_data)))\n",
    "print (\"The content of the encoded data is: {}\\n\".format(decoded_data))\n"
   ]
  },
  {
   "cell_type": "code",
   "execution_count": 107,
   "metadata": {},
   "outputs": [
    {
     "name": "stdout",
     "output_type": "stream",
     "text": [
      "----------------------------------------------------------------------------\n",
      "The size of the data is: 49\n",
      "\n",
      "The content of the data is: \n",
      "\n",
      "Value error: Please enter a non empty string\n"
     ]
    }
   ],
   "source": [
    "print(\"----------------------------------------------------------------------------\")\n",
    "a_great_sentence = \"\"\n",
    "\n",
    "print (\"The size of the data is: {}\\n\".format(sys.getsizeof(a_great_sentence)))\n",
    "print (\"The content of the data is: {}\\n\".format(a_great_sentence))\n",
    "\n",
    "encoded_data, tree = huffman_encoding(a_great_sentence)\n"
   ]
  },
  {
   "cell_type": "code",
   "execution_count": 97,
   "metadata": {},
   "outputs": [
    {
     "name": "stdout",
     "output_type": "stream",
     "text": [
      "----------------------------------------------------------------------------\n",
      "The size of the data is: 55\n",
      "\n",
      "The content of the data is: xxxxxx\n",
      "\n",
      "[(6, Node(char: x freq: 6 code: None \n",
      " left: None \n",
      " right: None))]\n",
      "Node(char: x freq: 0 code: 0 \n",
      " left: None \n",
      " right: None)\n",
      "Node(char: x freq: 0 code: 0 \n",
      " left: None \n",
      " right: None)\n"
     ]
    },
    {
     "ename": "TypeError",
     "evalue": "'Node' object is not subscriptable",
     "output_type": "error",
     "traceback": [
      "\u001b[0;31m---------------------------------------------------------------------------\u001b[0m",
      "\u001b[0;31mTypeError\u001b[0m                                 Traceback (most recent call last)",
      "\u001b[0;32m<ipython-input-97-d8e4edb50faf>\u001b[0m in \u001b[0;36m<module>\u001b[0;34m\u001b[0m\n\u001b[1;32m      5\u001b[0m \u001b[0mprint\u001b[0m \u001b[0;34m(\u001b[0m\u001b[0;34m\"The content of the data is: {}\\n\"\u001b[0m\u001b[0;34m.\u001b[0m\u001b[0mformat\u001b[0m\u001b[0;34m(\u001b[0m\u001b[0ma_great_sentence\u001b[0m\u001b[0;34m)\u001b[0m\u001b[0;34m)\u001b[0m\u001b[0;34m\u001b[0m\u001b[0;34m\u001b[0m\u001b[0m\n\u001b[1;32m      6\u001b[0m \u001b[0;34m\u001b[0m\u001b[0m\n\u001b[0;32m----> 7\u001b[0;31m \u001b[0mencoded_data\u001b[0m\u001b[0;34m,\u001b[0m \u001b[0mtree\u001b[0m \u001b[0;34m=\u001b[0m \u001b[0mhuffman_encoding\u001b[0m\u001b[0;34m(\u001b[0m\u001b[0ma_great_sentence\u001b[0m\u001b[0;34m)\u001b[0m\u001b[0;34m\u001b[0m\u001b[0;34m\u001b[0m\u001b[0m\n\u001b[0m\u001b[1;32m      8\u001b[0m \u001b[0;34m\u001b[0m\u001b[0m\n\u001b[1;32m      9\u001b[0m \u001b[0mprint\u001b[0m \u001b[0;34m(\u001b[0m\u001b[0;34m\"The size of the encoded data is: {}\\n\"\u001b[0m\u001b[0;34m.\u001b[0m\u001b[0mformat\u001b[0m\u001b[0;34m(\u001b[0m\u001b[0msys\u001b[0m\u001b[0;34m.\u001b[0m\u001b[0mgetsizeof\u001b[0m\u001b[0;34m(\u001b[0m\u001b[0mint\u001b[0m\u001b[0;34m(\u001b[0m\u001b[0mencoded_data\u001b[0m\u001b[0;34m,\u001b[0m \u001b[0mbase\u001b[0m\u001b[0;34m=\u001b[0m\u001b[0;36m2\u001b[0m\u001b[0;34m)\u001b[0m\u001b[0;34m)\u001b[0m\u001b[0;34m)\u001b[0m\u001b[0;34m)\u001b[0m\u001b[0;34m\u001b[0m\u001b[0;34m\u001b[0m\u001b[0m\n",
      "\u001b[0;32m<ipython-input-96-90a3ed82a139>\u001b[0m in \u001b[0;36mhuffman_encoding\u001b[0;34m(data)\u001b[0m\n\u001b[1;32m    166\u001b[0m     \u001b[0mencoded_data\u001b[0m \u001b[0;34m=\u001b[0m \u001b[0;34m\"\"\u001b[0m\u001b[0;34m\u001b[0m\u001b[0;34m\u001b[0m\u001b[0m\n\u001b[1;32m    167\u001b[0m     \u001b[0;32mfor\u001b[0m \u001b[0mchar\u001b[0m \u001b[0;32min\u001b[0m \u001b[0mdata\u001b[0m\u001b[0;34m:\u001b[0m\u001b[0;34m\u001b[0m\u001b[0;34m\u001b[0m\u001b[0m\n\u001b[0;32m--> 168\u001b[0;31m         \u001b[0mencoded_data\u001b[0m \u001b[0;34m+=\u001b[0m \u001b[0mencode_dict\u001b[0m\u001b[0;34m[\u001b[0m\u001b[0mchar\u001b[0m\u001b[0;34m]\u001b[0m\u001b[0;34m\u001b[0m\u001b[0;34m\u001b[0m\u001b[0m\n\u001b[0m\u001b[1;32m    169\u001b[0m \u001b[0;34m\u001b[0m\u001b[0m\n\u001b[1;32m    170\u001b[0m     \u001b[0;32mreturn\u001b[0m \u001b[0mencoded_data\u001b[0m\u001b[0;34m,\u001b[0m \u001b[0mtree\u001b[0m\u001b[0;34m\u001b[0m\u001b[0;34m\u001b[0m\u001b[0m\n",
      "\u001b[0;31mTypeError\u001b[0m: 'Node' object is not subscriptable"
     ]
    }
   ],
   "source": [
    "print(\"----------------------------------------------------------------------------\")\n",
    "a_great_sentence = \"xxxxxx\"\n",
    "\n",
    "print (\"The size of the data is: {}\\n\".format(sys.getsizeof(a_great_sentence)))\n",
    "print (\"The content of the data is: {}\\n\".format(a_great_sentence))\n",
    "\n",
    "encoded_data, tree = huffman_encoding(a_great_sentence)\n",
    "\n",
    "print (\"The size of the encoded data is: {}\\n\".format(sys.getsizeof(int(encoded_data, base=2))))\n",
    "print (\"The content of the encoded data is: {}\\n\".format(encoded_data))\n",
    "\n",
    "decoded_data = huffman_decoding(encoded_data, tree)\n",
    "\n",
    "print (\"The size of the decoded data is: {}\\n\".format(sys.getsizeof(decoded_data)))\n",
    "print (\"The content of the encoded data is: {}\\n\".format(decoded_data))\n"
   ]
  },
  {
   "cell_type": "code",
   "execution_count": null,
   "metadata": {},
   "outputs": [],
   "source": []
  },
  {
   "cell_type": "code",
   "execution_count": null,
   "metadata": {},
   "outputs": [],
   "source": []
  },
  {
   "cell_type": "code",
   "execution_count": 60,
   "metadata": {},
   "outputs": [],
   "source": [
    "data_enc, tree = huffman_encoding(\"Get the hell out of here!\")"
   ]
  },
  {
   "cell_type": "code",
   "execution_count": 61,
   "metadata": {},
   "outputs": [
    {
     "data": {
      "text/plain": [
       "'111100110100101100010010001111011100011011111111010011011111100010001110010111000'"
      ]
     },
     "execution_count": 61,
     "metadata": {},
     "output_type": "execute_result"
    }
   ],
   "source": [
    "data_enc"
   ]
  },
  {
   "cell_type": "code",
   "execution_count": 62,
   "metadata": {},
   "outputs": [],
   "source": [
    "data_dec = huffman_decoding(data_enc, tree)"
   ]
  },
  {
   "cell_type": "code",
   "execution_count": 63,
   "metadata": {},
   "outputs": [
    {
     "data": {
      "text/plain": [
       "'Get the hell out of here!'"
      ]
     },
     "execution_count": 63,
     "metadata": {},
     "output_type": "execute_result"
    }
   ],
   "source": [
    "data_dec"
   ]
  },
  {
   "cell_type": "code",
   "execution_count": 150,
   "metadata": {},
   "outputs": [],
   "source": [
    "tree = Tree(\"5\")"
   ]
  },
  {
   "cell_type": "code",
   "execution_count": 151,
   "metadata": {},
   "outputs": [
    {
     "data": {
      "text/plain": [
       "Node(char: 5 freq: None code: None \n",
       " left: None \n",
       " right: None)"
      ]
     },
     "execution_count": 151,
     "metadata": {},
     "output_type": "execute_result"
    }
   ],
   "source": [
    "tree.get_root()"
   ]
  },
  {
   "cell_type": "markdown",
   "metadata": {},
   "source": [
    "### count frequencies"
   ]
  },
  {
   "cell_type": "code",
   "execution_count": 47,
   "metadata": {},
   "outputs": [],
   "source": [
    "string = \"AAAAAAAABBBCCCCCCCDDEEEEEE\""
   ]
  },
  {
   "cell_type": "code",
   "execution_count": 48,
   "metadata": {},
   "outputs": [
    {
     "name": "stdout",
     "output_type": "stream",
     "text": [
      "Per char frequency in 'AAAAAAAABBBCCCCCCCDDEEEEEE' is :\n",
      " {'A': 8, 'B': 3, 'C': 7, 'D': 2, 'E': 6}\n"
     ]
    }
   ],
   "source": [
    "def count_char(string):\n",
    "    \n",
    "    char_freq = {}\n",
    "    \n",
    "    for char in string: \n",
    "        if char in char_freq: \n",
    "            char_freq[char] += 1\n",
    "        else: \n",
    "            char_freq[char] = 1\n",
    "            \n",
    "    return char_freq\n",
    "\n",
    "char_freq = count_char(string)\n",
    "# Show Output\n",
    "print (\"Per char frequency in '{}' is :\\n {}\".format(string, str(char_freq)))"
   ]
  },
  {
   "cell_type": "markdown",
   "metadata": {},
   "source": [
    "### priority queue"
   ]
  },
  {
   "cell_type": "code",
   "execution_count": 49,
   "metadata": {},
   "outputs": [
    {
     "name": "stdout",
     "output_type": "stream",
     "text": [
      "Node(char: A freq: 8 code: None \n",
      " left: None \n",
      " right: None)\n",
      "Node(char: B freq: 3 code: None \n",
      " left: None \n",
      " right: None)\n",
      "Node(char: C freq: 7 code: None \n",
      " left: None \n",
      " right: None)\n",
      "Node(char: D freq: 2 code: None \n",
      " left: None \n",
      " right: None)\n",
      "Node(char: E freq: 6 code: None \n",
      " left: None \n",
      " right: None)\n"
     ]
    }
   ],
   "source": [
    "from queue import PriorityQueue\n",
    "\n",
    "pqueue = PriorityQueue()\n",
    "\n",
    "for key, value in char_freq.items():\n",
    "    node = Node(char=key, freq=value)\n",
    "    print(node)\n",
    "    pqueue.put((node.freq, node))"
   ]
  },
  {
   "cell_type": "code",
   "execution_count": 50,
   "metadata": {},
   "outputs": [],
   "source": [
    "# -------------------------------------- #"
   ]
  },
  {
   "cell_type": "code",
   "execution_count": 53,
   "metadata": {},
   "outputs": [
    {
     "name": "stdout",
     "output_type": "stream",
     "text": [
      "8 Node(char: A freq: 8 code: None \n",
      " left: None \n",
      " right: None)\n"
     ]
    }
   ],
   "source": [
    "# pop 2 min values from pqueue\n",
    "freq_1, node_1 = pqueue.get() #heappop is a method to\n",
    "print(freq_1, node_1)\n",
    "#freq_2, node_2 = pqueue.get() #heappop is a method to\n",
    "#print(freq_2, node_2)"
   ]
  },
  {
   "cell_type": "code",
   "execution_count": 42,
   "metadata": {},
   "outputs": [],
   "source": [
    "def merge_nodes(pqueue):\n",
    "    # pop 2 nodes from priority queue\n",
    "    freq_1, node_1 = pqueue.get() #heappop is a method to\n",
    "    freq_2, node_2 = pqueue.get() #heappop is a method to\n",
    "    # create internal merged node with the sum of frequencies\n",
    "    freq_merged = freq_1 + freq_2\n",
    "    print(freq_merged)\n",
    "    merged_node = Node(freq = freq_merged, left = node_1, right = node_2)\n",
    "    # add merged node back to pqueue\n",
    "    pqueue.put((freq_merged, merged_node))\n",
    "    return pqueue"
   ]
  },
  {
   "cell_type": "code",
   "execution_count": 43,
   "metadata": {},
   "outputs": [
    {
     "name": "stdout",
     "output_type": "stream",
     "text": [
      "loop: 0\n",
      "5\n",
      "loop: 1\n"
     ]
    },
    {
     "ename": "TypeError",
     "evalue": "'<' not supported between instances of 'Node' and 'Node'",
     "output_type": "error",
     "traceback": [
      "\u001b[0;31m---------------------------------------------------------------------------\u001b[0m",
      "\u001b[0;31mTypeError\u001b[0m                                 Traceback (most recent call last)",
      "\u001b[0;32m<ipython-input-43-ac6f3ecb5648>\u001b[0m in \u001b[0;36m<module>\u001b[0;34m\u001b[0m\n\u001b[1;32m      5\u001b[0m \u001b[0;32mfor\u001b[0m \u001b[0mi\u001b[0m \u001b[0;32min\u001b[0m \u001b[0mrange\u001b[0m\u001b[0;34m(\u001b[0m\u001b[0;36m3\u001b[0m\u001b[0;34m)\u001b[0m\u001b[0;34m:\u001b[0m\u001b[0;34m\u001b[0m\u001b[0;34m\u001b[0m\u001b[0m\n\u001b[1;32m      6\u001b[0m     \u001b[0mprint\u001b[0m\u001b[0;34m(\u001b[0m\u001b[0;34m'loop: '\u001b[0m\u001b[0;34m+\u001b[0m \u001b[0mstr\u001b[0m\u001b[0;34m(\u001b[0m\u001b[0mi\u001b[0m\u001b[0;34m)\u001b[0m\u001b[0;34m)\u001b[0m\u001b[0;34m\u001b[0m\u001b[0;34m\u001b[0m\u001b[0m\n\u001b[0;32m----> 7\u001b[0;31m     \u001b[0mpqueue\u001b[0m \u001b[0;34m=\u001b[0m \u001b[0mmerge_nodes\u001b[0m\u001b[0;34m(\u001b[0m\u001b[0mpqueue\u001b[0m\u001b[0;34m)\u001b[0m\u001b[0;34m\u001b[0m\u001b[0;34m\u001b[0m\u001b[0m\n\u001b[0m",
      "\u001b[0;32m<ipython-input-42-3929e2da8ab0>\u001b[0m in \u001b[0;36mmerge_nodes\u001b[0;34m(pqueue)\u001b[0m\n\u001b[1;32m      2\u001b[0m     \u001b[0;31m# pop 2 nodes from priority queue\u001b[0m\u001b[0;34m\u001b[0m\u001b[0;34m\u001b[0m\u001b[0;34m\u001b[0m\u001b[0m\n\u001b[1;32m      3\u001b[0m     \u001b[0mfreq_1\u001b[0m\u001b[0;34m,\u001b[0m \u001b[0mnode_1\u001b[0m \u001b[0;34m=\u001b[0m \u001b[0mpqueue\u001b[0m\u001b[0;34m.\u001b[0m\u001b[0mget\u001b[0m\u001b[0;34m(\u001b[0m\u001b[0;34m)\u001b[0m \u001b[0;31m#heappop is a method to\u001b[0m\u001b[0;34m\u001b[0m\u001b[0;34m\u001b[0m\u001b[0m\n\u001b[0;32m----> 4\u001b[0;31m     \u001b[0mfreq_2\u001b[0m\u001b[0;34m,\u001b[0m \u001b[0mnode_2\u001b[0m \u001b[0;34m=\u001b[0m \u001b[0mpqueue\u001b[0m\u001b[0;34m.\u001b[0m\u001b[0mget\u001b[0m\u001b[0;34m(\u001b[0m\u001b[0;34m)\u001b[0m \u001b[0;31m#heappop is a method to\u001b[0m\u001b[0;34m\u001b[0m\u001b[0;34m\u001b[0m\u001b[0m\n\u001b[0m\u001b[1;32m      5\u001b[0m     \u001b[0;31m# create internal merged node with the sum of frequencies\u001b[0m\u001b[0;34m\u001b[0m\u001b[0;34m\u001b[0m\u001b[0;34m\u001b[0m\u001b[0m\n\u001b[1;32m      6\u001b[0m     \u001b[0mfreq_merged\u001b[0m \u001b[0;34m=\u001b[0m \u001b[0mfreq_1\u001b[0m \u001b[0;34m+\u001b[0m \u001b[0mfreq_2\u001b[0m\u001b[0;34m\u001b[0m\u001b[0;34m\u001b[0m\u001b[0m\n",
      "\u001b[0;32m~/miniconda3/lib/python3.8/queue.py\u001b[0m in \u001b[0;36mget\u001b[0;34m(self, block, timeout)\u001b[0m\n\u001b[1;32m    178\u001b[0m                         \u001b[0;32mraise\u001b[0m \u001b[0mEmpty\u001b[0m\u001b[0;34m\u001b[0m\u001b[0;34m\u001b[0m\u001b[0m\n\u001b[1;32m    179\u001b[0m                     \u001b[0mself\u001b[0m\u001b[0;34m.\u001b[0m\u001b[0mnot_empty\u001b[0m\u001b[0;34m.\u001b[0m\u001b[0mwait\u001b[0m\u001b[0;34m(\u001b[0m\u001b[0mremaining\u001b[0m\u001b[0;34m)\u001b[0m\u001b[0;34m\u001b[0m\u001b[0;34m\u001b[0m\u001b[0m\n\u001b[0;32m--> 180\u001b[0;31m             \u001b[0mitem\u001b[0m \u001b[0;34m=\u001b[0m \u001b[0mself\u001b[0m\u001b[0;34m.\u001b[0m\u001b[0m_get\u001b[0m\u001b[0;34m(\u001b[0m\u001b[0;34m)\u001b[0m\u001b[0;34m\u001b[0m\u001b[0;34m\u001b[0m\u001b[0m\n\u001b[0m\u001b[1;32m    181\u001b[0m             \u001b[0mself\u001b[0m\u001b[0;34m.\u001b[0m\u001b[0mnot_full\u001b[0m\u001b[0;34m.\u001b[0m\u001b[0mnotify\u001b[0m\u001b[0;34m(\u001b[0m\u001b[0;34m)\u001b[0m\u001b[0;34m\u001b[0m\u001b[0;34m\u001b[0m\u001b[0m\n\u001b[1;32m    182\u001b[0m             \u001b[0;32mreturn\u001b[0m \u001b[0mitem\u001b[0m\u001b[0;34m\u001b[0m\u001b[0;34m\u001b[0m\u001b[0m\n",
      "\u001b[0;32m~/miniconda3/lib/python3.8/queue.py\u001b[0m in \u001b[0;36m_get\u001b[0;34m(self)\u001b[0m\n\u001b[1;32m    234\u001b[0m \u001b[0;34m\u001b[0m\u001b[0m\n\u001b[1;32m    235\u001b[0m     \u001b[0;32mdef\u001b[0m \u001b[0m_get\u001b[0m\u001b[0;34m(\u001b[0m\u001b[0mself\u001b[0m\u001b[0;34m)\u001b[0m\u001b[0;34m:\u001b[0m\u001b[0;34m\u001b[0m\u001b[0;34m\u001b[0m\u001b[0m\n\u001b[0;32m--> 236\u001b[0;31m         \u001b[0;32mreturn\u001b[0m \u001b[0mheappop\u001b[0m\u001b[0;34m(\u001b[0m\u001b[0mself\u001b[0m\u001b[0;34m.\u001b[0m\u001b[0mqueue\u001b[0m\u001b[0;34m)\u001b[0m\u001b[0;34m\u001b[0m\u001b[0;34m\u001b[0m\u001b[0m\n\u001b[0m\u001b[1;32m    237\u001b[0m \u001b[0;34m\u001b[0m\u001b[0m\n\u001b[1;32m    238\u001b[0m \u001b[0;34m\u001b[0m\u001b[0m\n",
      "\u001b[0;31mTypeError\u001b[0m: '<' not supported between instances of 'Node' and 'Node'"
     ]
    }
   ],
   "source": [
    "#pqueue = merge_nodes(pqueue)\n",
    "#pqueue\n",
    "#while pqueue:\n",
    "#    pqueue = merge_nodes(pqueue)\n",
    "for i in range(3):\n",
    "    print('loop: '+ str(i))\n",
    "    pqueue = merge_nodes(pqueue)"
   ]
  },
  {
   "cell_type": "code",
   "execution_count": 12,
   "metadata": {},
   "outputs": [
    {
     "data": {
      "text/plain": [
       "5"
      ]
     },
     "execution_count": 12,
     "metadata": {},
     "output_type": "execute_result"
    }
   ],
   "source": [
    "pqueue.qsize()"
   ]
  },
  {
   "cell_type": "code",
   "execution_count": null,
   "metadata": {},
   "outputs": [],
   "source": [
    "# ------------------------------------------------- #"
   ]
  },
  {
   "cell_type": "markdown",
   "metadata": {},
   "source": [
    "### create tree"
   ]
  },
  {
   "cell_type": "code",
   "execution_count": 191,
   "metadata": {},
   "outputs": [],
   "source": [
    "pqueue = []\n",
    "\n",
    "for key, value in char_freq.items():\n",
    "    node = Node(char=key, freq=value)\n",
    "    pqueue.append((node.freq, node))\n",
    "pqueue = sorted(pqueue, key=lambda x: x[0], reverse=True)"
   ]
  },
  {
   "cell_type": "code",
   "execution_count": 192,
   "metadata": {},
   "outputs": [],
   "source": [
    "def merge_nodes(pqueue):\n",
    "    # pop 2 nodes from priority queue\n",
    "    freq_1, node_1 = pqueue.pop() #heappop is a method to\n",
    "    freq_2, node_2 = pqueue.pop() #heappop is a method to\n",
    "    # create internal merged node with the sum of frequencies\n",
    "    merged_node = Node(freq = freq_1 + freq_2, left = node_1, right = node_2)\n",
    "    # add merged node back to pqueue\n",
    "    pqueue.append((merged_node.freq, merged_node))\n",
    "    pqueue = sorted(pqueue, key=lambda x: x[0], reverse=True)\n",
    "    return pqueue"
   ]
  },
  {
   "cell_type": "code",
   "execution_count": 10,
   "metadata": {},
   "outputs": [
    {
     "ename": "TypeError",
     "evalue": "'<' not supported between instances of 'Node' and 'Node'",
     "output_type": "error",
     "traceback": [
      "\u001b[0;31m---------------------------------------------------------------------------\u001b[0m",
      "\u001b[0;31mTypeError\u001b[0m                                 Traceback (most recent call last)",
      "\u001b[0;32m<ipython-input-10-01c84e2f85de>\u001b[0m in \u001b[0;36m<module>\u001b[0;34m\u001b[0m\n\u001b[1;32m      1\u001b[0m \u001b[0;32mwhile\u001b[0m \u001b[0mpqueue\u001b[0m\u001b[0;34m:\u001b[0m\u001b[0;34m\u001b[0m\u001b[0;34m\u001b[0m\u001b[0m\n\u001b[0;32m----> 2\u001b[0;31m     \u001b[0mpqueue\u001b[0m \u001b[0;34m=\u001b[0m \u001b[0mmerge_nodes\u001b[0m\u001b[0;34m(\u001b[0m\u001b[0mpqueue\u001b[0m\u001b[0;34m)\u001b[0m\u001b[0;34m\u001b[0m\u001b[0;34m\u001b[0m\u001b[0m\n\u001b[0m",
      "\u001b[0;32m<ipython-input-7-337336b1dccc>\u001b[0m in \u001b[0;36mmerge_nodes\u001b[0;34m(pqueue)\u001b[0m\n\u001b[1;32m      2\u001b[0m     \u001b[0;31m# pop 2 nodes from priority queue\u001b[0m\u001b[0;34m\u001b[0m\u001b[0;34m\u001b[0m\u001b[0;34m\u001b[0m\u001b[0m\n\u001b[1;32m      3\u001b[0m     \u001b[0mfreq_1\u001b[0m\u001b[0;34m,\u001b[0m \u001b[0mnode_1\u001b[0m \u001b[0;34m=\u001b[0m \u001b[0mpqueue\u001b[0m\u001b[0;34m.\u001b[0m\u001b[0mget\u001b[0m\u001b[0;34m(\u001b[0m\u001b[0;34m)\u001b[0m \u001b[0;31m#heappop is a method to\u001b[0m\u001b[0;34m\u001b[0m\u001b[0;34m\u001b[0m\u001b[0m\n\u001b[0;32m----> 4\u001b[0;31m     \u001b[0mfreq_2\u001b[0m\u001b[0;34m,\u001b[0m \u001b[0mnode_2\u001b[0m \u001b[0;34m=\u001b[0m \u001b[0mpqueue\u001b[0m\u001b[0;34m.\u001b[0m\u001b[0mget\u001b[0m\u001b[0;34m(\u001b[0m\u001b[0;34m)\u001b[0m \u001b[0;31m#heappop is a method to\u001b[0m\u001b[0;34m\u001b[0m\u001b[0;34m\u001b[0m\u001b[0m\n\u001b[0m\u001b[1;32m      5\u001b[0m     \u001b[0;31m# create internal merged node with the sum of frequencies\u001b[0m\u001b[0;34m\u001b[0m\u001b[0;34m\u001b[0m\u001b[0;34m\u001b[0m\u001b[0m\n\u001b[1;32m      6\u001b[0m     \u001b[0mmerged_node\u001b[0m \u001b[0;34m=\u001b[0m \u001b[0mNode\u001b[0m\u001b[0;34m(\u001b[0m\u001b[0mfreq\u001b[0m \u001b[0;34m=\u001b[0m \u001b[0mfreq_1\u001b[0m \u001b[0;34m+\u001b[0m \u001b[0mfreq_2\u001b[0m\u001b[0;34m,\u001b[0m \u001b[0mleft\u001b[0m \u001b[0;34m=\u001b[0m \u001b[0mnode_1\u001b[0m\u001b[0;34m,\u001b[0m \u001b[0mright\u001b[0m \u001b[0;34m=\u001b[0m \u001b[0mnode_2\u001b[0m\u001b[0;34m)\u001b[0m\u001b[0;34m\u001b[0m\u001b[0;34m\u001b[0m\u001b[0m\n",
      "\u001b[0;32m~/miniconda3/lib/python3.8/queue.py\u001b[0m in \u001b[0;36mget\u001b[0;34m(self, block, timeout)\u001b[0m\n\u001b[1;32m    178\u001b[0m                         \u001b[0;32mraise\u001b[0m \u001b[0mEmpty\u001b[0m\u001b[0;34m\u001b[0m\u001b[0;34m\u001b[0m\u001b[0m\n\u001b[1;32m    179\u001b[0m                     \u001b[0mself\u001b[0m\u001b[0;34m.\u001b[0m\u001b[0mnot_empty\u001b[0m\u001b[0;34m.\u001b[0m\u001b[0mwait\u001b[0m\u001b[0;34m(\u001b[0m\u001b[0mremaining\u001b[0m\u001b[0;34m)\u001b[0m\u001b[0;34m\u001b[0m\u001b[0;34m\u001b[0m\u001b[0m\n\u001b[0;32m--> 180\u001b[0;31m             \u001b[0mitem\u001b[0m \u001b[0;34m=\u001b[0m \u001b[0mself\u001b[0m\u001b[0;34m.\u001b[0m\u001b[0m_get\u001b[0m\u001b[0;34m(\u001b[0m\u001b[0;34m)\u001b[0m\u001b[0;34m\u001b[0m\u001b[0;34m\u001b[0m\u001b[0m\n\u001b[0m\u001b[1;32m    181\u001b[0m             \u001b[0mself\u001b[0m\u001b[0;34m.\u001b[0m\u001b[0mnot_full\u001b[0m\u001b[0;34m.\u001b[0m\u001b[0mnotify\u001b[0m\u001b[0;34m(\u001b[0m\u001b[0;34m)\u001b[0m\u001b[0;34m\u001b[0m\u001b[0;34m\u001b[0m\u001b[0m\n\u001b[1;32m    182\u001b[0m             \u001b[0;32mreturn\u001b[0m \u001b[0mitem\u001b[0m\u001b[0;34m\u001b[0m\u001b[0;34m\u001b[0m\u001b[0m\n",
      "\u001b[0;32m~/miniconda3/lib/python3.8/queue.py\u001b[0m in \u001b[0;36m_get\u001b[0;34m(self)\u001b[0m\n\u001b[1;32m    234\u001b[0m \u001b[0;34m\u001b[0m\u001b[0m\n\u001b[1;32m    235\u001b[0m     \u001b[0;32mdef\u001b[0m \u001b[0m_get\u001b[0m\u001b[0;34m(\u001b[0m\u001b[0mself\u001b[0m\u001b[0;34m)\u001b[0m\u001b[0;34m:\u001b[0m\u001b[0;34m\u001b[0m\u001b[0;34m\u001b[0m\u001b[0m\n\u001b[0;32m--> 236\u001b[0;31m         \u001b[0;32mreturn\u001b[0m \u001b[0mheappop\u001b[0m\u001b[0;34m(\u001b[0m\u001b[0mself\u001b[0m\u001b[0;34m.\u001b[0m\u001b[0mqueue\u001b[0m\u001b[0;34m)\u001b[0m\u001b[0;34m\u001b[0m\u001b[0;34m\u001b[0m\u001b[0m\n\u001b[0m\u001b[1;32m    237\u001b[0m \u001b[0;34m\u001b[0m\u001b[0m\n\u001b[1;32m    238\u001b[0m \u001b[0;34m\u001b[0m\u001b[0m\n",
      "\u001b[0;31mTypeError\u001b[0m: '<' not supported between instances of 'Node' and 'Node'"
     ]
    }
   ],
   "source": [
    "while pqueue:\n",
    "    pqueue = merge_nodes(pqueue)"
   ]
  },
  {
   "cell_type": "code",
   "execution_count": 194,
   "metadata": {},
   "outputs": [
    {
     "data": {
      "text/plain": [
       "[(25,\n",
       "  Node(char: None freq: 25 code: None \n",
       "   left: Node(char: None freq: 11 code: None \n",
       "   left: Node(char: None freq: 5 code: None \n",
       "   left: Node(char: D freq: 2 code: None \n",
       "   left: None \n",
       "   right: None) \n",
       "   right: Node(char: B freq: 3 code: None \n",
       "   left: None \n",
       "   right: None)) \n",
       "   right: Node(char: E freq: 6 code: None \n",
       "   left: None \n",
       "   right: None)) \n",
       "   right: Node(char: None freq: 14 code: None \n",
       "   left: Node(char: C freq: 7 code: None \n",
       "   left: None \n",
       "   right: None) \n",
       "   right: Node(char: A freq: 7 code: None \n",
       "   left: None \n",
       "   right: None))))]"
      ]
     },
     "execution_count": 194,
     "metadata": {},
     "output_type": "execute_result"
    }
   ],
   "source": [
    "pqueue"
   ]
  },
  {
   "cell_type": "code",
   "execution_count": 195,
   "metadata": {},
   "outputs": [],
   "source": [
    "# create 0|1 code"
   ]
  },
  {
   "cell_type": "code",
   "execution_count": 196,
   "metadata": {},
   "outputs": [],
   "source": [
    "def add_code(node):\n",
    "    if node.left == None and node.right == None:\n",
    "        return node\n",
    "    if node.left is not None:\n",
    "        if node.code is None:\n",
    "            node.left.code = '0'\n",
    "        else:\n",
    "            node.left.code = node.code + '0'\n",
    "        node.left.freq = 0\n",
    "        node.left = add_code(node.left)\n",
    "    if node.right is not None:\n",
    "        if node.code is None:\n",
    "            node.right.code = '1'\n",
    "        else:\n",
    "            node.right.code = node.code + '1'\n",
    "        node.right.freq = 1\n",
    "        node.right = add_code(node.right)\n",
    "    return node"
   ]
  },
  {
   "cell_type": "code",
   "execution_count": 197,
   "metadata": {},
   "outputs": [],
   "source": [
    "root = pqueue[0][1]"
   ]
  },
  {
   "cell_type": "code",
   "execution_count": 198,
   "metadata": {},
   "outputs": [
    {
     "data": {
      "text/plain": [
       "Node(char: None freq: 25 code: None \n",
       " left: Node(char: None freq: 0 code: 0 \n",
       " left: Node(char: None freq: 0 code: 00 \n",
       " left: Node(char: D freq: 0 code: 000 \n",
       " left: None \n",
       " right: None) \n",
       " right: Node(char: B freq: 1 code: 001 \n",
       " left: None \n",
       " right: None)) \n",
       " right: Node(char: E freq: 1 code: 01 \n",
       " left: None \n",
       " right: None)) \n",
       " right: Node(char: None freq: 1 code: 1 \n",
       " left: Node(char: C freq: 0 code: 10 \n",
       " left: None \n",
       " right: None) \n",
       " right: Node(char: A freq: 1 code: 11 \n",
       " left: None \n",
       " right: None)))"
      ]
     },
     "execution_count": 198,
     "metadata": {},
     "output_type": "execute_result"
    }
   ],
   "source": [
    "add_code(root)"
   ]
  },
  {
   "cell_type": "code",
   "execution_count": 199,
   "metadata": {},
   "outputs": [
    {
     "data": {
      "text/plain": [
       "Node(char: None freq: 25 code: None \n",
       " left: Node(char: None freq: 0 code: 0 \n",
       " left: Node(char: None freq: 0 code: 00 \n",
       " left: Node(char: D freq: 0 code: 000 \n",
       " left: None \n",
       " right: None) \n",
       " right: Node(char: B freq: 1 code: 001 \n",
       " left: None \n",
       " right: None)) \n",
       " right: Node(char: E freq: 1 code: 01 \n",
       " left: None \n",
       " right: None)) \n",
       " right: Node(char: None freq: 1 code: 1 \n",
       " left: Node(char: C freq: 0 code: 10 \n",
       " left: None \n",
       " right: None) \n",
       " right: Node(char: A freq: 1 code: 11 \n",
       " left: None \n",
       " right: None)))"
      ]
     },
     "execution_count": 199,
     "metadata": {},
     "output_type": "execute_result"
    }
   ],
   "source": [
    "root"
   ]
  },
  {
   "cell_type": "code",
   "execution_count": 200,
   "metadata": {},
   "outputs": [],
   "source": [
    "def create_dict(root):\n",
    "    code_dict = dict()\n",
    "    "
   ]
  },
  {
   "cell_type": "code",
   "execution_count": 201,
   "metadata": {},
   "outputs": [],
   "source": [
    "def retrieve_code(node, dic):\n",
    "    if node.left == None and node.right == None:\n",
    "        dic[node.char] = node.code\n",
    "        return node\n",
    "    if node.left is not None:\n",
    "        retrieve_code(node.left, dic)\n",
    "    if node.right is not None:\n",
    "        retrieve_code(node.right, dic)\n",
    "    return dic"
   ]
  },
  {
   "cell_type": "code",
   "execution_count": 202,
   "metadata": {},
   "outputs": [],
   "source": [
    "code_dict = dict()\n",
    "code_dict = retrieve_code(root, code_dict)"
   ]
  },
  {
   "cell_type": "code",
   "execution_count": 203,
   "metadata": {},
   "outputs": [
    {
     "data": {
      "text/plain": [
       "{'D': '000', 'B': '001', 'E': '01', 'C': '10', 'A': '11'}"
      ]
     },
     "execution_count": 203,
     "metadata": {},
     "output_type": "execute_result"
    }
   ],
   "source": [
    "code_dict"
   ]
  },
  {
   "cell_type": "code",
   "execution_count": 204,
   "metadata": {},
   "outputs": [
    {
     "data": {
      "text/plain": [
       "'AAAAAAABBBCCCCCCCDDEEEEEE'"
      ]
     },
     "execution_count": 204,
     "metadata": {},
     "output_type": "execute_result"
    }
   ],
   "source": [
    "string"
   ]
  },
  {
   "cell_type": "code",
   "execution_count": 205,
   "metadata": {},
   "outputs": [],
   "source": [
    "encoded = \"\"\n",
    "for c in string:\n",
    "    encoded += code_dict[c]"
   ]
  },
  {
   "cell_type": "code",
   "execution_count": 206,
   "metadata": {},
   "outputs": [
    {
     "data": {
      "text/plain": [
       "'1111111111111100100100110101010101010000000010101010101'"
      ]
     },
     "execution_count": 206,
     "metadata": {},
     "output_type": "execute_result"
    }
   ],
   "source": [
    "encoded"
   ]
  },
  {
   "cell_type": "code",
   "execution_count": 207,
   "metadata": {},
   "outputs": [],
   "source": [
    "# decoding"
   ]
  },
  {
   "cell_type": "code",
   "execution_count": null,
   "metadata": {},
   "outputs": [],
   "source": [
    "def decode(string):\n",
    "    for "
   ]
  },
  {
   "cell_type": "code",
   "execution_count": 210,
   "metadata": {},
   "outputs": [
    {
     "data": {
      "text/plain": [
       "55"
      ]
     },
     "execution_count": 210,
     "metadata": {},
     "output_type": "execute_result"
    }
   ],
   "source": [
    "len(encoded)"
   ]
  },
  {
   "cell_type": "code",
   "execution_count": 227,
   "metadata": {},
   "outputs": [],
   "source": [
    "decoded = \"\"\n",
    "i = 0\n",
    "current_node = root\n",
    "\n",
    "# loop until the the encoded message ends\n",
    "for i in range(len(encoded)):\n",
    "    \n",
    "    item = encoded[i]\n",
    "    # if item is 0 set current node to LEFT child node\n",
    "    if item == str(current_node.left.freq):\n",
    "        current_node = current_node.left\n",
    "    # if item is 1 set current node to RIGHT child node\n",
    "    elif item == str(current_node.right.freq):\n",
    "        current_node = current_node.right\n",
    "    \n",
    "    # if current node is a leaf node convert binary code to character\n",
    "    if current_node.char is not None:\n",
    "        decoded += current_node.char\n",
    "        current_node = root"
   ]
  },
  {
   "cell_type": "code",
   "execution_count": 228,
   "metadata": {},
   "outputs": [
    {
     "data": {
      "text/plain": [
       "'AAAAAAABBBCCCCCCCDDEEEEEE'"
      ]
     },
     "execution_count": 228,
     "metadata": {},
     "output_type": "execute_result"
    }
   ],
   "source": [
    "decoded"
   ]
  },
  {
   "cell_type": "code",
   "execution_count": null,
   "metadata": {},
   "outputs": [],
   "source": []
  }
 ],
 "metadata": {
  "kernelspec": {
   "display_name": "Python 3",
   "language": "python",
   "name": "python3"
  },
  "language_info": {
   "codemirror_mode": {
    "name": "ipython",
    "version": 3
   },
   "file_extension": ".py",
   "mimetype": "text/x-python",
   "name": "python",
   "nbconvert_exporter": "python",
   "pygments_lexer": "ipython3",
   "version": "3.8.5"
  }
 },
 "nbformat": 4,
 "nbformat_minor": 4
}
