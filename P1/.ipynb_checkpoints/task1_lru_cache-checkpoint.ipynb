{
 "cells": [
  {
   "cell_type": "markdown",
   "metadata": {},
   "source": []
  },
  {
   "cell_type": "markdown",
   "metadata": {},
   "source": [
    "## Task 1 - Least Recently Used Cache\n",
    "\n",
    "We have briefly discussed caching as part of a practice problem while studying hash maps.\n",
    "\n",
    "The lookup operation (i.e., `get()`) and `put()` / `set()` is supposed to be fast for a cache memory.\n",
    "\n",
    "While doing the `get()` operation, if the entry is found in the cache, it is known as a `cache hit`. If, however, the entry is not found, it is known as a `cache miss`.\n",
    "\n",
    "When designing a cache, we also place an upper bound on the size of the cache. If the cache is full and we want to add a new entry to the cache, we use some criteria to remove an element. After removing an element, we use the `put()` operation to insert the new element. The remove operation should also be fast.\n",
    "\n",
    "For our first problem, the goal will be to design a data structure known as a Least Recently Used (LRU) cache. An LRU cache is a type of cache in which we remove the least recently used entry when the cache memory reaches its limit. For the current problem, consider both get and set operations as an use operation.\n",
    "\n",
    "Your job is to use an appropriate data structure(s) to implement the cache.\n",
    "\n",
    "* In case of a cache hit, your `get()` operation should return the appropriate value.\n",
    "* In case of a cache miss, your `get()` should return -1.\n",
    "* While putting an element in the cache, your `put()` / `set()` operation must insert the element. If the cache is full, you must write code that removes the least recently used entry first and then insert the element.\n",
    "\n",
    "All operations must take `O(1)` time.\n",
    "\n",
    "For the current problem, you can consider the `size of cache = 5`.\n",
    "\n",
    "Here is some boiler plate code and some example test cases to get you started on this problem:"
   ]
  },
  {
   "cell_type": "code",
   "execution_count": 1,
   "metadata": {},
   "outputs": [],
   "source": [
    "class DoubleNode:\n",
    "    def __init__(self, key, value):\n",
    "        self.key = key\n",
    "        self.value = value\n",
    "        self.next = None\n",
    "        self.previous = None\n",
    "        \n",
    "    def __repr__(self):\n",
    "        return \"DNode(key: {}, value: {})\".format(self.key, self.value)"
   ]
  },
  {
   "cell_type": "code",
   "execution_count": 18,
   "metadata": {},
   "outputs": [],
   "source": [
    "class LRUCache:\n",
    "    def __init__(self, cache_size):\n",
    "        \n",
    "        # if cache size is not valid\n",
    "        if cache_size < 1:\n",
    "            print(\"Value error: Minimum cache size is 1\")\n",
    "            return\n",
    "        self.cache_size = cache_size\n",
    "        self.current_size = 0\n",
    "        \n",
    "        # dubbly liked list\n",
    "        self.head = None\n",
    "        self.tail = None\n",
    "        \n",
    "        # hash map (dictionary) for fast look up\n",
    "        self.cache_map = dict()\n",
    "        \n",
    "        \n",
    "    def get(self, key):\n",
    "        \"\"\" return value for the input key \"\"\"\n",
    "        \n",
    "        ## hash map\n",
    "        # get DoubleNode from hash map\n",
    "        node = self.cache_map.get(key)\n",
    "        \n",
    "        if node is None:\n",
    "            return -1\n",
    "        \n",
    "        ## doubly linked list (dll)\n",
    "        # special case node is already head node\n",
    "        if node == self.head:\n",
    "            return node.value\n",
    "        \n",
    "        # remove node from dll and add as head\n",
    "        self.remove(node)\n",
    "        self.prepend(node)\n",
    "        \n",
    "        return node.value\n",
    "        \n",
    "    \n",
    "    def set(self, key, value):\n",
    "        \"\"\" set value \"\"\"\n",
    "        \n",
    "        # if key is already in the cache map\n",
    "        if key in self.cache_map:\n",
    "            node = self.cache_map[key]\n",
    "            value = node.value\n",
    "            ## dll\n",
    "            if node != self.head:\n",
    "                self.remove(node)\n",
    "                self.prepend(node)\n",
    "        else:\n",
    "            node = DoubleNode(key, value)\n",
    "            if self.cache_size == self.current_size:\n",
    "                del self.cache_map[self.tail.key]\n",
    "                self.remove(self.tail)\n",
    "            self.cache_map[key] = node\n",
    "            self.prepend(node)\n",
    "\n",
    "    \n",
    "    def prepend(self, node):\n",
    "        \"\"\" DLL Prepend a value to the beginning of the list. \"\"\"\n",
    "        \n",
    "        if self.head is None:\n",
    "            self.head = node\n",
    "            self.tail = node\n",
    "        else:\n",
    "            node.previous = self.head\n",
    "            self.head.next = node\n",
    "            self.head = node\n",
    "        self.current_size += 1\n",
    "        \n",
    "    \n",
    "    def remove(self, node):\n",
    "        \"\"\" DLL remove node form list \"\"\"\n",
    "        \n",
    "        if self.head is None:\n",
    "            return\n",
    "        \n",
    "        if node.previous:\n",
    "            node.previous.next = node.next\n",
    "        if node.next:\n",
    "            node.next.previous = node.previous\n",
    "            \n",
    "        if self.tail == node:\n",
    "            self.tail = node.next\n",
    "            \n",
    "            \n",
    "        if (node.next is None) and (node.previous is None):\n",
    "            self.head = None\n",
    "            self.tail = None\n",
    "            \n",
    "            \n",
    "    def print_elements(self):\n",
    "        n = self.head\n",
    "        print(\"[head = %s, tail = %s]\" % (self.head, self.tail), end=\" \")\n",
    "        while n:\n",
    "            print(\"%s -> \" % (n), end = \"\")\n",
    "            n = n.previous\n",
    "        print(\"NULL\")\n",
    "    \n",
    "    def print_map(self):\n",
    "        print(self.cache_map)"
   ]
  },
  {
   "cell_type": "code",
   "execution_count": 19,
   "metadata": {},
   "outputs": [],
   "source": [
    "lru = LRUCache(4)"
   ]
  },
  {
   "cell_type": "code",
   "execution_count": 20,
   "metadata": {},
   "outputs": [
    {
     "name": "stdout",
     "output_type": "stream",
     "text": [
      "[head = None, tail = None] NULL\n"
     ]
    }
   ],
   "source": [
    "lru.print_elements()"
   ]
  },
  {
   "cell_type": "code",
   "execution_count": 22,
   "metadata": {},
   "outputs": [
    {
     "name": "stdout",
     "output_type": "stream",
     "text": [
      "[head = DNode(key: 0, value: 40), tail = DNode(key: 0, value: 40)] DNode(key: 0, value: 40) -> NULL\n",
      "{0: DNode(key: 0, value: 40)}\n"
     ]
    }
   ],
   "source": [
    "lru.set(0, 40)\n",
    "lru.print_elements()\n",
    "lru.print_map()"
   ]
  },
  {
   "cell_type": "code",
   "execution_count": 23,
   "metadata": {},
   "outputs": [],
   "source": [
    "lru.set(2, 4)\n",
    "lru.set(1, 91)\n",
    "lru.set(3, 9)"
   ]
  },
  {
   "cell_type": "code",
   "execution_count": 25,
   "metadata": {},
   "outputs": [
    {
     "name": "stdout",
     "output_type": "stream",
     "text": [
      "[head = DNode(key: 3, value: 9), tail = DNode(key: 0, value: 40)] DNode(key: 3, value: 9) -> DNode(key: 1, value: 91) -> DNode(key: 2, value: 4) -> DNode(key: 0, value: 40) -> NULL\n",
      "-------------------------------------------------------------------------------------------------\n",
      "{0: DNode(key: 0, value: 40), 2: DNode(key: 2, value: 4), 1: DNode(key: 1, value: 91), 3: DNode(key: 3, value: 9)}\n"
     ]
    }
   ],
   "source": [
    "lru.print_elements()\n",
    "print(\"-------------------------------------------------------------------------------------------------\")\n",
    "lru.print_map()"
   ]
  },
  {
   "cell_type": "code",
   "execution_count": 26,
   "metadata": {},
   "outputs": [
    {
     "ename": "AttributeError",
     "evalue": "'LRUCache' object has no attribute 'node'",
     "output_type": "error",
     "traceback": [
      "\u001b[0;31m---------------------------------------------------------------------------\u001b[0m",
      "\u001b[0;31mAttributeError\u001b[0m                            Traceback (most recent call last)",
      "\u001b[0;32m<ipython-input-26-20247233e795>\u001b[0m in \u001b[0;36m<module>\u001b[0;34m\u001b[0m\n\u001b[0;32m----> 1\u001b[0;31m \u001b[0mlru\u001b[0m\u001b[0;34m.\u001b[0m\u001b[0mget\u001b[0m\u001b[0;34m(\u001b[0m\u001b[0;36m2\u001b[0m\u001b[0;34m)\u001b[0m\u001b[0;34m\u001b[0m\u001b[0;34m\u001b[0m\u001b[0m\n\u001b[0m\u001b[1;32m      2\u001b[0m \u001b[0;34m\u001b[0m\u001b[0m\n\u001b[1;32m      3\u001b[0m \u001b[0mlru\u001b[0m\u001b[0;34m.\u001b[0m\u001b[0mprint_elements\u001b[0m\u001b[0;34m(\u001b[0m\u001b[0;34m)\u001b[0m\u001b[0;34m\u001b[0m\u001b[0;34m\u001b[0m\u001b[0m\n\u001b[1;32m      4\u001b[0m \u001b[0mprint\u001b[0m\u001b[0;34m(\u001b[0m\u001b[0;34m\"-------------------------------------------------------------------------------------------------\"\u001b[0m\u001b[0;34m)\u001b[0m\u001b[0;34m\u001b[0m\u001b[0;34m\u001b[0m\u001b[0m\n\u001b[1;32m      5\u001b[0m \u001b[0mlru\u001b[0m\u001b[0;34m.\u001b[0m\u001b[0mprint_map\u001b[0m\u001b[0;34m(\u001b[0m\u001b[0;34m)\u001b[0m\u001b[0;34m\u001b[0m\u001b[0;34m\u001b[0m\u001b[0m\n",
      "\u001b[0;32m<ipython-input-18-fc8fa00f067d>\u001b[0m in \u001b[0;36mget\u001b[0;34m(self, key)\u001b[0m\n\u001b[1;32m     29\u001b[0m         \u001b[0;31m## doubly linked list (dll)\u001b[0m\u001b[0;34m\u001b[0m\u001b[0;34m\u001b[0m\u001b[0;34m\u001b[0m\u001b[0m\n\u001b[1;32m     30\u001b[0m         \u001b[0;31m# special case node is already head node\u001b[0m\u001b[0;34m\u001b[0m\u001b[0;34m\u001b[0m\u001b[0;34m\u001b[0m\u001b[0m\n\u001b[0;32m---> 31\u001b[0;31m         \u001b[0;32mif\u001b[0m \u001b[0mnode\u001b[0m \u001b[0;34m==\u001b[0m \u001b[0mself\u001b[0m\u001b[0;34m.\u001b[0m\u001b[0mnode\u001b[0m\u001b[0;34m.\u001b[0m\u001b[0mhead\u001b[0m\u001b[0;34m:\u001b[0m\u001b[0;34m\u001b[0m\u001b[0;34m\u001b[0m\u001b[0m\n\u001b[0m\u001b[1;32m     32\u001b[0m             \u001b[0;32mreturn\u001b[0m \u001b[0mnode\u001b[0m\u001b[0;34m.\u001b[0m\u001b[0mvalue\u001b[0m\u001b[0;34m\u001b[0m\u001b[0;34m\u001b[0m\u001b[0m\n\u001b[1;32m     33\u001b[0m \u001b[0;34m\u001b[0m\u001b[0m\n",
      "\u001b[0;31mAttributeError\u001b[0m: 'LRUCache' object has no attribute 'node'"
     ]
    }
   ],
   "source": [
    "lru.get(2)\n",
    "\n",
    "lru.print_elements()\n",
    "print(\"-------------------------------------------------------------------------------------------------\")\n",
    "lru.print_map()\n",
    "\n",
    "lru.set(9, 99)\n",
    "\n",
    "lru.print_elements()\n",
    "print(\"-------------------------------------------------------------------------------------------------\")\n",
    "lru.print_map()\n"
   ]
  },
  {
   "cell_type": "code",
   "execution_count": null,
   "metadata": {},
   "outputs": [],
   "source": []
  },
  {
   "cell_type": "code",
   "execution_count": null,
   "metadata": {},
   "outputs": [],
   "source": []
  },
  {
   "cell_type": "code",
   "execution_count": 4,
   "metadata": {},
   "outputs": [],
   "source": [
    "dll.prepend(1)\n",
    "dll.prepend(2)\n",
    "dll.prepend(3)\n",
    "dll.prepend(4)"
   ]
  },
  {
   "cell_type": "code",
   "execution_count": 5,
   "metadata": {},
   "outputs": [
    {
     "data": {
      "text/plain": [
       "4"
      ]
     },
     "execution_count": 5,
     "metadata": {},
     "output_type": "execute_result"
    }
   ],
   "source": [
    "dll.head.value"
   ]
  },
  {
   "cell_type": "code",
   "execution_count": 6,
   "metadata": {},
   "outputs": [
    {
     "data": {
      "text/plain": [
       "1"
      ]
     },
     "execution_count": 6,
     "metadata": {},
     "output_type": "execute_result"
    }
   ],
   "source": [
    "dll.tail.value"
   ]
  },
  {
   "cell_type": "code",
   "execution_count": 7,
   "metadata": {},
   "outputs": [
    {
     "name": "stdout",
     "output_type": "stream",
     "text": [
      "1\n",
      "2\n",
      "3\n",
      "4\n"
     ]
    },
    {
     "ename": "AttributeError",
     "evalue": "'NoneType' object has no attribute 'value'",
     "output_type": "error",
     "traceback": [
      "\u001b[0;31m---------------------------------------------------------------------------\u001b[0m",
      "\u001b[0;31mAttributeError\u001b[0m                            Traceback (most recent call last)",
      "\u001b[0;32m<ipython-input-7-cc9ccf2848de>\u001b[0m in \u001b[0;36m<module>\u001b[0;34m\u001b[0m\n\u001b[1;32m      2\u001b[0m \u001b[0mdll\u001b[0m\u001b[0;34m.\u001b[0m\u001b[0mpop\u001b[0m\u001b[0;34m(\u001b[0m\u001b[0;34m)\u001b[0m\u001b[0;34m\u001b[0m\u001b[0;34m\u001b[0m\u001b[0m\n\u001b[1;32m      3\u001b[0m \u001b[0mdll\u001b[0m\u001b[0;34m.\u001b[0m\u001b[0mpop\u001b[0m\u001b[0;34m(\u001b[0m\u001b[0;34m)\u001b[0m\u001b[0;34m\u001b[0m\u001b[0;34m\u001b[0m\u001b[0m\n\u001b[0;32m----> 4\u001b[0;31m \u001b[0mdll\u001b[0m\u001b[0;34m.\u001b[0m\u001b[0mpop\u001b[0m\u001b[0;34m(\u001b[0m\u001b[0;34m)\u001b[0m\u001b[0;34m\u001b[0m\u001b[0;34m\u001b[0m\u001b[0m\n\u001b[0m\u001b[1;32m      5\u001b[0m \u001b[0mdll\u001b[0m\u001b[0;34m.\u001b[0m\u001b[0mpop\u001b[0m\u001b[0;34m(\u001b[0m\u001b[0;34m)\u001b[0m\u001b[0;34m\u001b[0m\u001b[0;34m\u001b[0m\u001b[0m\n\u001b[1;32m      6\u001b[0m \u001b[0mdll\u001b[0m\u001b[0;34m.\u001b[0m\u001b[0mpop\u001b[0m\u001b[0;34m(\u001b[0m\u001b[0;34m)\u001b[0m\u001b[0;34m\u001b[0m\u001b[0;34m\u001b[0m\u001b[0m\n",
      "\u001b[0;32m<ipython-input-2-53a57e23215f>\u001b[0m in \u001b[0;36mpop\u001b[0;34m(self)\u001b[0m\n\u001b[1;32m     35\u001b[0m             \u001b[0mprint\u001b[0m\u001b[0;34m(\u001b[0m\u001b[0mself\u001b[0m\u001b[0;34m.\u001b[0m\u001b[0mtail\u001b[0m\u001b[0;34m.\u001b[0m\u001b[0mvalue\u001b[0m\u001b[0;34m)\u001b[0m\u001b[0;34m\u001b[0m\u001b[0;34m\u001b[0m\u001b[0m\n\u001b[1;32m     36\u001b[0m             \u001b[0mself\u001b[0m\u001b[0;34m.\u001b[0m\u001b[0mtail\u001b[0m \u001b[0;34m=\u001b[0m \u001b[0mself\u001b[0m\u001b[0;34m.\u001b[0m\u001b[0mtail\u001b[0m\u001b[0;34m.\u001b[0m\u001b[0mprevious\u001b[0m\u001b[0;34m\u001b[0m\u001b[0;34m\u001b[0m\u001b[0m\n\u001b[0;32m---> 37\u001b[0;31m             \u001b[0;32mreturn\u001b[0m \u001b[0mself\u001b[0m\u001b[0;34m.\u001b[0m\u001b[0mtail\u001b[0m\u001b[0;34m.\u001b[0m\u001b[0mvalue\u001b[0m\u001b[0;34m\u001b[0m\u001b[0;34m\u001b[0m\u001b[0m\n\u001b[0m",
      "\u001b[0;31mAttributeError\u001b[0m: 'NoneType' object has no attribute 'value'"
     ]
    }
   ],
   "source": [
    "dll.pop()\n",
    "dll.pop()\n",
    "dll.pop()\n",
    "dll.pop()\n",
    "dll.pop()\n",
    "dll.pop()"
   ]
  },
  {
   "cell_type": "code",
   "execution_count": 9,
   "metadata": {},
   "outputs": [
    {
     "data": {
      "text/plain": [
       "4"
      ]
     },
     "execution_count": 9,
     "metadata": {},
     "output_type": "execute_result"
    }
   ],
   "source": [
    "dll.head.value"
   ]
  },
  {
   "cell_type": "code",
   "execution_count": null,
   "metadata": {},
   "outputs": [],
   "source": []
  },
  {
   "cell_type": "code",
   "execution_count": 10,
   "metadata": {},
   "outputs": [],
   "source": [
    "d = dict()"
   ]
  },
  {
   "cell_type": "code",
   "execution_count": 11,
   "metadata": {},
   "outputs": [],
   "source": [
    "def set_value(key, value):\n",
    "    if dictionary.get(key):\n",
    "        return\n",
    "\n",
    "    if self.capacity == self.list.size():\n",
    "        old_key = self.list.pop()\n",
    "        del self.dictionary[old_key]\n",
    "\n",
    "    self.list.remove(key)\n",
    "    self.list.prepend(key)\n",
    "    self.dictionary[key] = value"
   ]
  },
  {
   "cell_type": "code",
   "execution_count": null,
   "metadata": {},
   "outputs": [],
   "source": []
  },
  {
   "cell_type": "code",
   "execution_count": null,
   "metadata": {},
   "outputs": [],
   "source": []
  },
  {
   "cell_type": "code",
   "execution_count": 12,
   "metadata": {},
   "outputs": [],
   "source": [
    "class LRU_Cache(object):\n",
    "\n",
    "    def __init__(self, capacity):\n",
    "        # Initialize class variables\n",
    "        self.keys = DoublyLinkedList()\n",
    "        self.cache_map = dict()\n",
    "        self.capacity = capacity\n",
    "\n",
    "    def get(self, key):\n",
    "        # Retrieve item from provided key. Return -1 if nonexistent. \n",
    "        item = self.cache_map.get(key)\n",
    "        self.keys.prepend(key)\n",
    "        \n",
    "        if item:\n",
    "            print(\"get: {}\".format(item))\n",
    "            return item\n",
    "        else:\n",
    "            print(\"get: -1\")\n",
    "            return -1\n",
    "\n",
    "    def set(self, key, value):\n",
    "        # Set the value if the key is not present in the cache. If the cache is at capacity remove the oldest item. \n",
    "        if self.cache_map.get(key):\n",
    "            print(\"key is already present in the cache\")\n",
    "            return\n",
    "        else:\n",
    "            if len(self.cache_map) == self.capacity:\n",
    "                key_del = self.keys.pop()\n",
    "                del self.cache_map[key_del]\n",
    "                print(\"cache capacity exceeded deleting last entry\")\n",
    "                \n",
    "            self.keys.prepend(key)\n",
    "            self.cache_map[key] = value\n",
    "            print(\"added key: {} - value {}\".format(key, value))"
   ]
  },
  {
   "cell_type": "code",
   "execution_count": 13,
   "metadata": {},
   "outputs": [
    {
     "name": "stdout",
     "output_type": "stream",
     "text": [
      "added key: 1 - value 1\n",
      "added key: 2 - value 2\n",
      "added key: 3 - value 3\n",
      "added key: 4 - value 4\n",
      "get: 1\n",
      "get: 2\n",
      "get: -1\n",
      "added key: 5 - value 5\n",
      "1\n",
      "cache capacity exceeded deleting last entry\n",
      "added key: 6 - value 6\n",
      "get: 3\n"
     ]
    },
    {
     "data": {
      "text/plain": [
       "3"
      ]
     },
     "execution_count": 13,
     "metadata": {},
     "output_type": "execute_result"
    }
   ],
   "source": [
    "our_cache = LRU_Cache(5)\n",
    "\n",
    "our_cache.set(1, 1);\n",
    "our_cache.set(2, 2);\n",
    "our_cache.set(3, 3);\n",
    "our_cache.set(4, 4);\n",
    "\n",
    "\n",
    "our_cache.get(1)       # returns 1\n",
    "our_cache.get(2)       # returns 2\n",
    "our_cache.get(9)      # returns -1 because 9 is not present in the cache\n",
    "\n",
    "our_cache.set(5, 5) \n",
    "our_cache.set(6, 6)\n",
    "\n",
    "our_cache.get(3)      # returns -1 because the cache reached it's capacity and 3 was the least recently used entry"
   ]
  },
  {
   "cell_type": "code",
   "execution_count": null,
   "metadata": {},
   "outputs": [],
   "source": []
  }
 ],
 "metadata": {
  "kernelspec": {
   "display_name": "Python 3",
   "language": "python",
   "name": "python3"
  },
  "language_info": {
   "codemirror_mode": {
    "name": "ipython",
    "version": 3
   },
   "file_extension": ".py",
   "mimetype": "text/x-python",
   "name": "python",
   "nbconvert_exporter": "python",
   "pygments_lexer": "ipython3",
   "version": "3.8.5"
  }
 },
 "nbformat": 4,
 "nbformat_minor": 4
}
