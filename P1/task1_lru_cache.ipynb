{
 "cells": [
  {
   "cell_type": "markdown",
   "metadata": {},
   "source": []
  },
  {
   "cell_type": "markdown",
   "metadata": {},
   "source": [
    "## Task 1 - Least Recently Used Cache\n",
    "\n",
    "We have briefly discussed caching as part of a practice problem while studying hash maps.\n",
    "\n",
    "The lookup operation (i.e., `get()`) and `put()` / `set()` is supposed to be fast for a cache memory.\n",
    "\n",
    "While doing the `get()` operation, if the entry is found in the cache, it is known as a `cache hit`. If, however, the entry is not found, it is known as a `cache miss`.\n",
    "\n",
    "When designing a cache, we also place an upper bound on the size of the cache. If the cache is full and we want to add a new entry to the cache, we use some criteria to remove an element. After removing an element, we use the `put()` operation to insert the new element. The remove operation should also be fast.\n",
    "\n",
    "For our first problem, the goal will be to design a data structure known as a Least Recently Used (LRU) cache. An LRU cache is a type of cache in which we remove the least recently used entry when the cache memory reaches its limit. For the current problem, consider both get and set operations as an use operation.\n",
    "\n",
    "Your job is to use an appropriate data structure(s) to implement the cache.\n",
    "\n",
    "* In case of a cache hit, your `get()` operation should return the appropriate value.\n",
    "* In case of a cache miss, your `get()` should return -1.\n",
    "* While putting an element in the cache, your `put()` / `set()` operation must insert the element. If the cache is full, you must write code that removes the least recently used entry first and then insert the element.\n",
    "\n",
    "All operations must take `O(1)` time.\n",
    "\n",
    "For the current problem, you can consider the `size of cache = 5`.\n",
    "\n",
    "Here is some boiler plate code and some example test cases to get you started on this problem:"
   ]
  },
  {
   "cell_type": "code",
   "execution_count": 1,
   "metadata": {},
   "outputs": [],
   "source": [
    "class DoubleNode:\n",
    "    def __init__(self, value):\n",
    "        self.value = value\n",
    "        self.next = None\n",
    "        self.previous = None"
   ]
  },
  {
   "cell_type": "code",
   "execution_count": 77,
   "metadata": {},
   "outputs": [],
   "source": [
    "class DoublyLinkedList:\n",
    "    def __init__(self):\n",
    "        self.head = None\n",
    "        self.tail = None\n",
    "    \n",
    "    def append(self, value):\n",
    "        if self.head is None:\n",
    "            self.head = DoubleNode(value)\n",
    "            self.tail = self.head\n",
    "            return\n",
    "            \n",
    "        self.tail.next = DoubleNode(value)\n",
    "        self.tail.next.previous = self.tail\n",
    "        self.tail = self.tail.next\n",
    "        return\n",
    "    \n",
    "    # Define a function outside of the class\n",
    "    def prepend(self, value):\n",
    "        \"\"\" Prepend a value to the beginning of the list. \"\"\"\n",
    "        if self.head is None:\n",
    "            self.head = DoubleNode(value)\n",
    "            self.tail = self.head\n",
    "        else:\n",
    "            second = self.head\n",
    "            self.head = DoubleNode(value)\n",
    "            self.head.next = second\n",
    "            self.head.next.previous = self.head\n",
    "    \n",
    "    def pop(self):\n",
    "        if self.tail is None:\n",
    "            self.head = None\n",
    "            self.tail = None\n",
    "            return\n",
    "        else:\n",
    "            print(self.tail.value)\n",
    "            self.tail = self.tail.previous\n",
    "            return self.tail.value"
   ]
  },
  {
   "cell_type": "code",
   "execution_count": 67,
   "metadata": {},
   "outputs": [],
   "source": [
    "dll = DoublyLinkedList()"
   ]
  },
  {
   "cell_type": "code",
   "execution_count": 68,
   "metadata": {},
   "outputs": [],
   "source": [
    "dll.prepend(1)\n",
    "dll.prepend(2)\n",
    "dll.prepend(3)\n",
    "dll.prepend(4)"
   ]
  },
  {
   "cell_type": "code",
   "execution_count": 69,
   "metadata": {},
   "outputs": [
    {
     "data": {
      "text/plain": [
       "4"
      ]
     },
     "execution_count": 69,
     "metadata": {},
     "output_type": "execute_result"
    }
   ],
   "source": [
    "dll.head.value"
   ]
  },
  {
   "cell_type": "code",
   "execution_count": 70,
   "metadata": {},
   "outputs": [
    {
     "data": {
      "text/plain": [
       "1"
      ]
     },
     "execution_count": 70,
     "metadata": {},
     "output_type": "execute_result"
    }
   ],
   "source": [
    "dll.tail.value"
   ]
  },
  {
   "cell_type": "code",
   "execution_count": 71,
   "metadata": {},
   "outputs": [
    {
     "name": "stdout",
     "output_type": "stream",
     "text": [
      "1\n",
      "2\n",
      "3\n",
      "4\n"
     ]
    }
   ],
   "source": [
    "dll.pop()\n",
    "dll.pop()\n",
    "dll.pop()\n",
    "dll.pop()\n",
    "dll.pop()\n",
    "dll.pop()"
   ]
  },
  {
   "cell_type": "code",
   "execution_count": 75,
   "metadata": {},
   "outputs": [],
   "source": [
    "dll.head"
   ]
  },
  {
   "cell_type": "code",
   "execution_count": null,
   "metadata": {},
   "outputs": [],
   "source": []
  },
  {
   "cell_type": "code",
   "execution_count": 76,
   "metadata": {},
   "outputs": [],
   "source": [
    "d = dict()"
   ]
  },
  {
   "cell_type": "code",
   "execution_count": null,
   "metadata": {},
   "outputs": [],
   "source": [
    "def set_value(key, value):\n",
    "    if dictionary.get(key):\n",
    "        return\n",
    "\n",
    "    if self.capacity == self.list.size():\n",
    "        old_key = self.list.pop()\n",
    "        del self.dictionary[old_key]\n",
    "\n",
    "    self.list.remove(key)\n",
    "    self.list.prepend(key)\n",
    "    self.dictionary[key] = value"
   ]
  },
  {
   "cell_type": "code",
   "execution_count": null,
   "metadata": {},
   "outputs": [],
   "source": []
  },
  {
   "cell_type": "code",
   "execution_count": null,
   "metadata": {},
   "outputs": [],
   "source": []
  },
  {
   "cell_type": "code",
   "execution_count": 90,
   "metadata": {},
   "outputs": [],
   "source": [
    "class LRU_Cache(object):\n",
    "\n",
    "    def __init__(self, capacity):\n",
    "        # Initialize class variables\n",
    "        self.keys = DoublyLinkedList()\n",
    "        self.cache_map = dict()\n",
    "        self.capacity = capacity\n",
    "\n",
    "    def get(self, key):\n",
    "        # Retrieve item from provided key. Return -1 if nonexistent. \n",
    "        item = self.cache_map.get(key)\n",
    "        if item:\n",
    "            print(\"get: {}\".format(item))\n",
    "            return item\n",
    "        else:\n",
    "            print(\"get: -1\")\n",
    "            return -1\n",
    "\n",
    "    def set(self, key, value):\n",
    "        # Set the value if the key is not present in the cache. If the cache is at capacity remove the oldest item. \n",
    "        if self.cache_map.get(key):\n",
    "            print(\"key is already present in the cache\")\n",
    "            return\n",
    "        else:\n",
    "            if len(self.cache_map) == self.capacity:\n",
    "                key_del = self.keys.pop()\n",
    "                del self.cache_map[key_del]\n",
    "                print(\"cache capacity exceeded deleting last entry\")\n",
    "                \n",
    "            self.keys.prepend(key)\n",
    "            self.cache_map[key] = value\n",
    "            print(\"added key: {} - value {}\".format(key, value))"
   ]
  },
  {
   "cell_type": "code",
   "execution_count": 91,
   "metadata": {},
   "outputs": [
    {
     "name": "stdout",
     "output_type": "stream",
     "text": [
      "added key: 1 - value 1\n",
      "added key: 2 - value 2\n",
      "added key: 3 - value 3\n",
      "added key: 4 - value 4\n",
      "get: 1\n",
      "get: 2\n",
      "get: -1\n",
      "added key: 5 - value 5\n",
      "1\n",
      "cache capacity exceeded deleting last entry\n",
      "added key: 6 - value 6\n",
      "get: 3\n"
     ]
    },
    {
     "data": {
      "text/plain": [
       "3"
      ]
     },
     "execution_count": 91,
     "metadata": {},
     "output_type": "execute_result"
    }
   ],
   "source": [
    "our_cache = LRU_Cache(5)\n",
    "\n",
    "our_cache.set(1, 1);\n",
    "our_cache.set(2, 2);\n",
    "our_cache.set(3, 3);\n",
    "our_cache.set(4, 4);\n",
    "\n",
    "\n",
    "our_cache.get(1)       # returns 1\n",
    "our_cache.get(2)       # returns 2\n",
    "our_cache.get(9)      # returns -1 because 9 is not present in the cache\n",
    "\n",
    "our_cache.set(5, 5) \n",
    "our_cache.set(6, 6)\n",
    "\n",
    "our_cache.get(3)      # returns -1 because the cache reached it's capacity and 3 was the least recently used entry"
   ]
  },
  {
   "cell_type": "code",
   "execution_count": null,
   "metadata": {},
   "outputs": [],
   "source": []
  }
 ],
 "metadata": {
  "kernelspec": {
   "display_name": "Python 3",
   "language": "python",
   "name": "python3"
  },
  "language_info": {
   "codemirror_mode": {
    "name": "ipython",
    "version": 3
   },
   "file_extension": ".py",
   "mimetype": "text/x-python",
   "name": "python",
   "nbconvert_exporter": "python",
   "pygments_lexer": "ipython3",
   "version": "3.8.5"
  }
 },
 "nbformat": 4,
 "nbformat_minor": 4
}
